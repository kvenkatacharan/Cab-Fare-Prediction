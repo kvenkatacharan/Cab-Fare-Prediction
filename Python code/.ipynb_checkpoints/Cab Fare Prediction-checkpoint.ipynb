{
 "cells": [
  {
   "cell_type": "markdown",
   "metadata": {},
   "source": [
    "# Problem Statement\n",
    "\n",
    "#### You are a cab rental start-up company. You have successfully run the pilot project and now want to launch your cab service across the country. You have collected the historical data from your pilot project and now have a requirement to apply analytics for fare prediction. You need to design a system that predicts the fare amount for a cab ride in the city."
   ]
  },
  {
   "cell_type": "markdown",
   "metadata": {},
   "source": [
    "# Importing required packages\n"
   ]
  },
  {
   "cell_type": "code",
   "execution_count": null,
   "metadata": {},
   "outputs": [],
   "source": [
    "\n",
    "#operations on dataframe and numbers \n",
    "import pandas as pd\n",
    "import numpy as np\n",
    "\n",
    "# for visualiazations\n",
    "import matplotlib.pyplot as plt\n",
    "import seaborn as sns\n",
    "import matplotlib.gridspec as gridspec \n",
    "\n",
    "#to check the plot inline\n",
    "%matplotlib inline\n",
    "\n",
    "# for imputing missing values \n",
    "from fancyimpute import KNN\n",
    "\n",
    "# for datetime\n",
    "from datetime import datetime\n",
    "import calendar\n",
    "\n",
    "#sklearn \n",
    "from sklearn.feature_selection import RFE, f_regression\n",
    "from sklearn.linear_model import (LinearRegression, Ridge, Lasso, RandomizedLasso)\n",
    "from sklearn.preprocessing import MinMaxScaler\n",
    "from sklearn.ensemble import RandomForestRegressor\n",
    "\n",
    "# we can use  sklearn.cross_validation or sklearn.model_selection  depending on version\n",
    "#from sklearn.cross_validation import train_test_split  \n",
    "from sklearn.model_selection import train_test_split\n",
    "from sklearn.metrics import r2_score\n",
    "from sklearn.metrics import mean_squared_error\n",
    "from sklearn import tree\n",
    "import warnings\n",
    "from math import sin, cos, sqrt, atan2, radians,asin\n",
    "from sklearn.model_selection import GridSearchCV\n",
    "from sklearn.ensemble import RandomForestRegressor\n",
    "import lightgbm as lgb\n",
    "import xgboost as xgb\n",
    "from xgboost.sklearn import XGBRegressor\n",
    "from xgboost.sklearn import XGBClassifier    \n",
    "from sklearn.metrics import roc_auc_score\n",
    "from hyperopt import hp, fmin, tpe, STATUS_OK, Trials\n",
    "warnings.filterwarnings('ignore')"
   ]
  },
  {
   "cell_type": "code",
   "execution_count": 262,
   "metadata": {},
   "outputs": [],
   "source": [
    "#!pip install xgboost\n",
    "#!pip install hyperopt"
   ]
  },
  {
   "cell_type": "code",
   "execution_count": null,
   "metadata": {},
   "outputs": [],
   "source": []
  },
  {
   "cell_type": "code",
   "execution_count": 61,
   "metadata": {},
   "outputs": [],
   "source": [
    "train=pd.read_csv(\"train_cab.csv\")"
   ]
  },
  {
   "cell_type": "code",
   "execution_count": 37,
   "metadata": {},
   "outputs": [
    {
     "data": {
      "text/html": [
       "<div>\n",
       "<style scoped>\n",
       "    .dataframe tbody tr th:only-of-type {\n",
       "        vertical-align: middle;\n",
       "    }\n",
       "\n",
       "    .dataframe tbody tr th {\n",
       "        vertical-align: top;\n",
       "    }\n",
       "\n",
       "    .dataframe thead th {\n",
       "        text-align: right;\n",
       "    }\n",
       "</style>\n",
       "<table border=\"1\" class=\"dataframe\">\n",
       "  <thead>\n",
       "    <tr style=\"text-align: right;\">\n",
       "      <th></th>\n",
       "      <th>fare_amount</th>\n",
       "      <th>pickup_datetime</th>\n",
       "      <th>pickup_longitude</th>\n",
       "      <th>pickup_latitude</th>\n",
       "      <th>dropoff_longitude</th>\n",
       "      <th>dropoff_latitude</th>\n",
       "      <th>passenger_count</th>\n",
       "    </tr>\n",
       "  </thead>\n",
       "  <tbody>\n",
       "    <tr>\n",
       "      <th>0</th>\n",
       "      <td>4.5</td>\n",
       "      <td>2009-06-15 17:26:21 UTC</td>\n",
       "      <td>-73.844311</td>\n",
       "      <td>40.721319</td>\n",
       "      <td>-73.841610</td>\n",
       "      <td>40.712278</td>\n",
       "      <td>1.0</td>\n",
       "    </tr>\n",
       "    <tr>\n",
       "      <th>1</th>\n",
       "      <td>16.9</td>\n",
       "      <td>2010-01-05 16:52:16 UTC</td>\n",
       "      <td>-74.016048</td>\n",
       "      <td>40.711303</td>\n",
       "      <td>-73.979268</td>\n",
       "      <td>40.782004</td>\n",
       "      <td>1.0</td>\n",
       "    </tr>\n",
       "    <tr>\n",
       "      <th>2</th>\n",
       "      <td>5.7</td>\n",
       "      <td>2011-08-18 00:35:00 UTC</td>\n",
       "      <td>-73.982738</td>\n",
       "      <td>40.761270</td>\n",
       "      <td>-73.991242</td>\n",
       "      <td>40.750562</td>\n",
       "      <td>2.0</td>\n",
       "    </tr>\n",
       "    <tr>\n",
       "      <th>3</th>\n",
       "      <td>7.7</td>\n",
       "      <td>2012-04-21 04:30:42 UTC</td>\n",
       "      <td>-73.987130</td>\n",
       "      <td>40.733143</td>\n",
       "      <td>-73.991567</td>\n",
       "      <td>40.758092</td>\n",
       "      <td>1.0</td>\n",
       "    </tr>\n",
       "  </tbody>\n",
       "</table>\n",
       "</div>"
      ],
      "text/plain": [
       "  fare_amount          pickup_datetime  pickup_longitude  pickup_latitude  \\\n",
       "0         4.5  2009-06-15 17:26:21 UTC        -73.844311        40.721319   \n",
       "1        16.9  2010-01-05 16:52:16 UTC        -74.016048        40.711303   \n",
       "2         5.7  2011-08-18 00:35:00 UTC        -73.982738        40.761270   \n",
       "3         7.7  2012-04-21 04:30:42 UTC        -73.987130        40.733143   \n",
       "\n",
       "   dropoff_longitude  dropoff_latitude  passenger_count  \n",
       "0         -73.841610         40.712278              1.0  \n",
       "1         -73.979268         40.782004              1.0  \n",
       "2         -73.991242         40.750562              2.0  \n",
       "3         -73.991567         40.758092              1.0  "
      ]
     },
     "execution_count": 37,
     "metadata": {},
     "output_type": "execute_result"
    }
   ],
   "source": [
    "train.head(4)"
   ]
  },
  {
   "cell_type": "code",
   "execution_count": 38,
   "metadata": {},
   "outputs": [
    {
     "name": "stdout",
     "output_type": "stream",
     "text": [
      "Row : Columns\n",
      "16067 7\n"
     ]
    }
   ],
   "source": [
    "# lets check shape of data frame \n",
    "print(\"Row : Columns\")\n",
    "print(train.shape[0],train.shape[1])"
   ]
  },
  {
   "cell_type": "code",
   "execution_count": 39,
   "metadata": {},
   "outputs": [
    {
     "name": "stdout",
     "output_type": "stream",
     "text": [
      "<class 'pandas.core.frame.DataFrame'>\n",
      "RangeIndex: 16067 entries, 0 to 16066\n",
      "Data columns (total 7 columns):\n",
      "fare_amount          16043 non-null object\n",
      "pickup_datetime      16067 non-null object\n",
      "pickup_longitude     16067 non-null float64\n",
      "pickup_latitude      16067 non-null float64\n",
      "dropoff_longitude    16067 non-null float64\n",
      "dropoff_latitude     16067 non-null float64\n",
      "passenger_count      16012 non-null float64\n",
      "dtypes: float64(5), object(2)\n",
      "memory usage: 878.7+ KB\n"
     ]
    }
   ],
   "source": [
    "train.info()"
   ]
  },
  {
   "cell_type": "code",
   "execution_count": 40,
   "metadata": {},
   "outputs": [
    {
     "data": {
      "text/html": [
       "<div>\n",
       "<style scoped>\n",
       "    .dataframe tbody tr th:only-of-type {\n",
       "        vertical-align: middle;\n",
       "    }\n",
       "\n",
       "    .dataframe tbody tr th {\n",
       "        vertical-align: top;\n",
       "    }\n",
       "\n",
       "    .dataframe thead th {\n",
       "        text-align: right;\n",
       "    }\n",
       "</style>\n",
       "<table border=\"1\" class=\"dataframe\">\n",
       "  <thead>\n",
       "    <tr style=\"text-align: right;\">\n",
       "      <th></th>\n",
       "      <th>pickup_longitude</th>\n",
       "      <th>pickup_latitude</th>\n",
       "      <th>dropoff_longitude</th>\n",
       "      <th>dropoff_latitude</th>\n",
       "      <th>passenger_count</th>\n",
       "    </tr>\n",
       "  </thead>\n",
       "  <tbody>\n",
       "    <tr>\n",
       "      <th>count</th>\n",
       "      <td>16067.000000</td>\n",
       "      <td>16067.000000</td>\n",
       "      <td>16067.000000</td>\n",
       "      <td>16067.000000</td>\n",
       "      <td>16012.000000</td>\n",
       "    </tr>\n",
       "    <tr>\n",
       "      <th>mean</th>\n",
       "      <td>-72.462787</td>\n",
       "      <td>39.914725</td>\n",
       "      <td>-72.462328</td>\n",
       "      <td>39.897906</td>\n",
       "      <td>2.625070</td>\n",
       "    </tr>\n",
       "    <tr>\n",
       "      <th>std</th>\n",
       "      <td>10.578384</td>\n",
       "      <td>6.826587</td>\n",
       "      <td>10.575062</td>\n",
       "      <td>6.187087</td>\n",
       "      <td>60.844122</td>\n",
       "    </tr>\n",
       "    <tr>\n",
       "      <th>min</th>\n",
       "      <td>-74.438233</td>\n",
       "      <td>-74.006893</td>\n",
       "      <td>-74.429332</td>\n",
       "      <td>-74.006377</td>\n",
       "      <td>0.000000</td>\n",
       "    </tr>\n",
       "    <tr>\n",
       "      <th>25%</th>\n",
       "      <td>-73.992156</td>\n",
       "      <td>40.734927</td>\n",
       "      <td>-73.991182</td>\n",
       "      <td>40.734651</td>\n",
       "      <td>1.000000</td>\n",
       "    </tr>\n",
       "    <tr>\n",
       "      <th>50%</th>\n",
       "      <td>-73.981698</td>\n",
       "      <td>40.752603</td>\n",
       "      <td>-73.980172</td>\n",
       "      <td>40.753567</td>\n",
       "      <td>1.000000</td>\n",
       "    </tr>\n",
       "    <tr>\n",
       "      <th>75%</th>\n",
       "      <td>-73.966838</td>\n",
       "      <td>40.767381</td>\n",
       "      <td>-73.963643</td>\n",
       "      <td>40.768013</td>\n",
       "      <td>2.000000</td>\n",
       "    </tr>\n",
       "    <tr>\n",
       "      <th>max</th>\n",
       "      <td>40.766125</td>\n",
       "      <td>401.083332</td>\n",
       "      <td>40.802437</td>\n",
       "      <td>41.366138</td>\n",
       "      <td>5345.000000</td>\n",
       "    </tr>\n",
       "  </tbody>\n",
       "</table>\n",
       "</div>"
      ],
      "text/plain": [
       "       pickup_longitude  pickup_latitude  dropoff_longitude  dropoff_latitude  \\\n",
       "count      16067.000000     16067.000000       16067.000000      16067.000000   \n",
       "mean         -72.462787        39.914725         -72.462328         39.897906   \n",
       "std           10.578384         6.826587          10.575062          6.187087   \n",
       "min          -74.438233       -74.006893         -74.429332        -74.006377   \n",
       "25%          -73.992156        40.734927         -73.991182         40.734651   \n",
       "50%          -73.981698        40.752603         -73.980172         40.753567   \n",
       "75%          -73.966838        40.767381         -73.963643         40.768013   \n",
       "max           40.766125       401.083332          40.802437         41.366138   \n",
       "\n",
       "       passenger_count  \n",
       "count     16012.000000  \n",
       "mean          2.625070  \n",
       "std          60.844122  \n",
       "min           0.000000  \n",
       "25%           1.000000  \n",
       "50%           1.000000  \n",
       "75%           2.000000  \n",
       "max        5345.000000  "
      ]
     },
     "execution_count": 40,
     "metadata": {},
     "output_type": "execute_result"
    }
   ],
   "source": [
    "train.describe()"
   ]
  },
  {
   "cell_type": "markdown",
   "metadata": {},
   "source": [
    "# Data Preparation "
   ]
  },
  {
   "cell_type": "code",
   "execution_count": 62,
   "metadata": {},
   "outputs": [
    {
     "data": {
      "text/html": [
       "<div>\n",
       "<style scoped>\n",
       "    .dataframe tbody tr th:only-of-type {\n",
       "        vertical-align: middle;\n",
       "    }\n",
       "\n",
       "    .dataframe tbody tr th {\n",
       "        vertical-align: top;\n",
       "    }\n",
       "\n",
       "    .dataframe thead th {\n",
       "        text-align: right;\n",
       "    }\n",
       "</style>\n",
       "<table border=\"1\" class=\"dataframe\">\n",
       "  <thead>\n",
       "    <tr style=\"text-align: right;\">\n",
       "      <th></th>\n",
       "      <th>fare_amount</th>\n",
       "      <th>pickup_datetime</th>\n",
       "      <th>pickup_longitude</th>\n",
       "      <th>pickup_latitude</th>\n",
       "      <th>dropoff_longitude</th>\n",
       "      <th>dropoff_latitude</th>\n",
       "      <th>passenger_count</th>\n",
       "    </tr>\n",
       "  </thead>\n",
       "  <tbody>\n",
       "    <tr>\n",
       "      <th>0</th>\n",
       "      <td>4.5</td>\n",
       "      <td>2009-06-15 17:26:21</td>\n",
       "      <td>-73.844311</td>\n",
       "      <td>40.721319</td>\n",
       "      <td>-73.841610</td>\n",
       "      <td>40.712278</td>\n",
       "      <td>1.0</td>\n",
       "    </tr>\n",
       "    <tr>\n",
       "      <th>1</th>\n",
       "      <td>16.9</td>\n",
       "      <td>2010-01-05 16:52:16</td>\n",
       "      <td>-74.016048</td>\n",
       "      <td>40.711303</td>\n",
       "      <td>-73.979268</td>\n",
       "      <td>40.782004</td>\n",
       "      <td>1.0</td>\n",
       "    </tr>\n",
       "    <tr>\n",
       "      <th>2</th>\n",
       "      <td>5.7</td>\n",
       "      <td>2011-08-18 00:35:00</td>\n",
       "      <td>-73.982738</td>\n",
       "      <td>40.761270</td>\n",
       "      <td>-73.991242</td>\n",
       "      <td>40.750562</td>\n",
       "      <td>2.0</td>\n",
       "    </tr>\n",
       "    <tr>\n",
       "      <th>3</th>\n",
       "      <td>7.7</td>\n",
       "      <td>2012-04-21 04:30:42</td>\n",
       "      <td>-73.987130</td>\n",
       "      <td>40.733143</td>\n",
       "      <td>-73.991567</td>\n",
       "      <td>40.758092</td>\n",
       "      <td>1.0</td>\n",
       "    </tr>\n",
       "    <tr>\n",
       "      <th>4</th>\n",
       "      <td>5.3</td>\n",
       "      <td>2010-03-09 07:51:00</td>\n",
       "      <td>-73.968095</td>\n",
       "      <td>40.768008</td>\n",
       "      <td>-73.956655</td>\n",
       "      <td>40.783762</td>\n",
       "      <td>1.0</td>\n",
       "    </tr>\n",
       "  </tbody>\n",
       "</table>\n",
       "</div>"
      ],
      "text/plain": [
       "  fare_amount     pickup_datetime  pickup_longitude  pickup_latitude  \\\n",
       "0         4.5 2009-06-15 17:26:21        -73.844311        40.721319   \n",
       "1        16.9 2010-01-05 16:52:16        -74.016048        40.711303   \n",
       "2         5.7 2011-08-18 00:35:00        -73.982738        40.761270   \n",
       "3         7.7 2012-04-21 04:30:42        -73.987130        40.733143   \n",
       "4         5.3 2010-03-09 07:51:00        -73.968095        40.768008   \n",
       "\n",
       "   dropoff_longitude  dropoff_latitude  passenger_count  \n",
       "0         -73.841610         40.712278              1.0  \n",
       "1         -73.979268         40.782004              1.0  \n",
       "2         -73.991242         40.750562              2.0  \n",
       "3         -73.991567         40.758092              1.0  \n",
       "4         -73.956655         40.783762              1.0  "
      ]
     },
     "execution_count": 62,
     "metadata": {},
     "output_type": "execute_result"
    }
   ],
   "source": [
    "# Converting pickup_datetime object to pandas datetime\n",
    "\n",
    "# Here one observation is having 43 in pickup_datetime removing that observation \n",
    "train=train[train[\"pickup_datetime\"]!=\"43\"]\n",
    "train[\"pickup_datetime\"]=pd.to_datetime(train[\"pickup_datetime\"],format=\"%Y-%m-%d %H:%M:%S UTC\")\n",
    "train.head()"
   ]
  },
  {
   "cell_type": "markdown",
   "metadata": {},
   "source": [
    "### Create datetime features based on pickup_datetime"
   ]
  },
  {
   "cell_type": "code",
   "execution_count": 63,
   "metadata": {},
   "outputs": [
    {
     "data": {
      "text/html": [
       "<div>\n",
       "<style scoped>\n",
       "    .dataframe tbody tr th:only-of-type {\n",
       "        vertical-align: middle;\n",
       "    }\n",
       "\n",
       "    .dataframe tbody tr th {\n",
       "        vertical-align: top;\n",
       "    }\n",
       "\n",
       "    .dataframe thead th {\n",
       "        text-align: right;\n",
       "    }\n",
       "</style>\n",
       "<table border=\"1\" class=\"dataframe\">\n",
       "  <thead>\n",
       "    <tr style=\"text-align: right;\">\n",
       "      <th></th>\n",
       "      <th>fare_amount</th>\n",
       "      <th>pickup_longitude</th>\n",
       "      <th>pickup_latitude</th>\n",
       "      <th>dropoff_longitude</th>\n",
       "      <th>dropoff_latitude</th>\n",
       "      <th>passenger_count</th>\n",
       "      <th>pickup_date</th>\n",
       "      <th>pickup_day</th>\n",
       "      <th>pickup_hour</th>\n",
       "      <th>pickup_month</th>\n",
       "      <th>pickup_year</th>\n",
       "      <th>pickup_day_of_week</th>\n",
       "    </tr>\n",
       "  </thead>\n",
       "  <tbody>\n",
       "    <tr>\n",
       "      <th>0</th>\n",
       "      <td>4.5</td>\n",
       "      <td>-73.844311</td>\n",
       "      <td>40.721319</td>\n",
       "      <td>-73.841610</td>\n",
       "      <td>40.712278</td>\n",
       "      <td>1.0</td>\n",
       "      <td>2009-06-15</td>\n",
       "      <td>15</td>\n",
       "      <td>17</td>\n",
       "      <td>6</td>\n",
       "      <td>2009</td>\n",
       "      <td>Monday</td>\n",
       "    </tr>\n",
       "    <tr>\n",
       "      <th>1</th>\n",
       "      <td>16.9</td>\n",
       "      <td>-74.016048</td>\n",
       "      <td>40.711303</td>\n",
       "      <td>-73.979268</td>\n",
       "      <td>40.782004</td>\n",
       "      <td>1.0</td>\n",
       "      <td>2010-01-05</td>\n",
       "      <td>5</td>\n",
       "      <td>16</td>\n",
       "      <td>1</td>\n",
       "      <td>2010</td>\n",
       "      <td>Tuesday</td>\n",
       "    </tr>\n",
       "    <tr>\n",
       "      <th>2</th>\n",
       "      <td>5.7</td>\n",
       "      <td>-73.982738</td>\n",
       "      <td>40.761270</td>\n",
       "      <td>-73.991242</td>\n",
       "      <td>40.750562</td>\n",
       "      <td>2.0</td>\n",
       "      <td>2011-08-18</td>\n",
       "      <td>18</td>\n",
       "      <td>0</td>\n",
       "      <td>8</td>\n",
       "      <td>2011</td>\n",
       "      <td>Thursday</td>\n",
       "    </tr>\n",
       "    <tr>\n",
       "      <th>3</th>\n",
       "      <td>7.7</td>\n",
       "      <td>-73.987130</td>\n",
       "      <td>40.733143</td>\n",
       "      <td>-73.991567</td>\n",
       "      <td>40.758092</td>\n",
       "      <td>1.0</td>\n",
       "      <td>2012-04-21</td>\n",
       "      <td>21</td>\n",
       "      <td>4</td>\n",
       "      <td>4</td>\n",
       "      <td>2012</td>\n",
       "      <td>Saturday</td>\n",
       "    </tr>\n",
       "    <tr>\n",
       "      <th>4</th>\n",
       "      <td>5.3</td>\n",
       "      <td>-73.968095</td>\n",
       "      <td>40.768008</td>\n",
       "      <td>-73.956655</td>\n",
       "      <td>40.783762</td>\n",
       "      <td>1.0</td>\n",
       "      <td>2010-03-09</td>\n",
       "      <td>9</td>\n",
       "      <td>7</td>\n",
       "      <td>3</td>\n",
       "      <td>2010</td>\n",
       "      <td>Tuesday</td>\n",
       "    </tr>\n",
       "  </tbody>\n",
       "</table>\n",
       "</div>"
      ],
      "text/plain": [
       "  fare_amount  pickup_longitude  pickup_latitude  dropoff_longitude  \\\n",
       "0         4.5        -73.844311        40.721319         -73.841610   \n",
       "1        16.9        -74.016048        40.711303         -73.979268   \n",
       "2         5.7        -73.982738        40.761270         -73.991242   \n",
       "3         7.7        -73.987130        40.733143         -73.991567   \n",
       "4         5.3        -73.968095        40.768008         -73.956655   \n",
       "\n",
       "   dropoff_latitude  passenger_count pickup_date  pickup_day  pickup_hour  \\\n",
       "0         40.712278              1.0  2009-06-15          15           17   \n",
       "1         40.782004              1.0  2010-01-05           5           16   \n",
       "2         40.750562              2.0  2011-08-18          18            0   \n",
       "3         40.758092              1.0  2012-04-21          21            4   \n",
       "4         40.783762              1.0  2010-03-09           9            7   \n",
       "\n",
       "   pickup_month  pickup_year pickup_day_of_week  \n",
       "0             6         2009             Monday  \n",
       "1             1         2010            Tuesday  \n",
       "2             8         2011           Thursday  \n",
       "3             4         2012           Saturday  \n",
       "4             3         2010            Tuesday  "
      ]
     },
     "execution_count": 63,
     "metadata": {},
     "output_type": "execute_result"
    }
   ],
   "source": [
    "\n",
    "train[\"pickup_date\"]=train[\"pickup_datetime\"].dt.date\n",
    "train[\"pickup_day\"]=train[\"pickup_datetime\"].apply(lambda x:x.day)\n",
    "train[\"pickup_hour\"]=train[\"pickup_datetime\"].apply(lambda x:x.hour)\n",
    "train[\"pickup_month\"]=train[\"pickup_datetime\"].apply(lambda x:x.month)\n",
    "train[\"pickup_year\"]=train[\"pickup_datetime\"].apply(lambda x:x.year)\n",
    "train['pickup_day_of_week']=train['pickup_datetime'].apply(lambda x:calendar.day_name[x.weekday()])\n",
    "train=train.drop(['pickup_datetime'], axis=1)\n",
    "train.head()"
   ]
  },
  {
   "cell_type": "code",
   "execution_count": 43,
   "metadata": {},
   "outputs": [
    {
     "data": {
      "text/plain": [
       "Index(['fare_amount', 'pickup_longitude', 'pickup_latitude',\n",
       "       'dropoff_longitude', 'dropoff_latitude', 'passenger_count',\n",
       "       'pickup_date', 'pickup_day', 'pickup_hour', 'pickup_month',\n",
       "       'pickup_year', 'pickup_day_of_week'],\n",
       "      dtype='object')"
      ]
     },
     "execution_count": 43,
     "metadata": {},
     "output_type": "execute_result"
    }
   ],
   "source": [
    "train.columns"
   ]
  },
  {
   "cell_type": "code",
   "execution_count": 44,
   "metadata": {},
   "outputs": [],
   "source": [
    "#train['fare_amount']= train['fare_amount'].apply(pd.to_numeric,errors='coerce')\n",
    "\n"
   ]
  },
  {
   "cell_type": "code",
   "execution_count": 64,
   "metadata": {},
   "outputs": [],
   "source": [
    "# removing strings in numerical variables  '430-' in fare\n",
    "numeric_variables=['fare_amount', 'pickup_longitude', 'pickup_latitude',\n",
    "       'dropoff_longitude', 'dropoff_latitude', 'passenger_count', 'pickup_day', 'pickup_hour', 'pickup_month',\n",
    "       'pickup_year']\n",
    "train[numeric_variables]= train[numeric_variables].apply(pd.to_numeric,errors='coerce')\n"
   ]
  },
  {
   "cell_type": "code",
   "execution_count": 65,
   "metadata": {},
   "outputs": [],
   "source": [
    "#KNN imputation\n",
    "#Assigning levels to the categories\n",
    "lis = []\n",
    "for i in range(0, train.shape[1]):\n",
    "    #print(i)\n",
    "    if(train.iloc[:,i].dtypes == 'object'):\n",
    "        train.iloc[:,i] = pd.Categorical(train.iloc[:,i])\n",
    "        #print(train[[i]])\n",
    "        train.iloc[:,i] = train.iloc[:,i].cat.codes \n",
    "        train.iloc[:,i] = train.iloc[:,i].astype('object')\n",
    "        \n",
    "        lis.append(train.columns[i])\n",
    "        "
   ]
  },
  {
   "cell_type": "markdown",
   "metadata": {},
   "source": [
    "# Missing Value Analysis "
   ]
  },
  {
   "cell_type": "code",
   "execution_count": 67,
   "metadata": {},
   "outputs": [
    {
     "data": {
      "text/html": [
       "<div>\n",
       "<style scoped>\n",
       "    .dataframe tbody tr th:only-of-type {\n",
       "        vertical-align: middle;\n",
       "    }\n",
       "\n",
       "    .dataframe tbody tr th {\n",
       "        vertical-align: top;\n",
       "    }\n",
       "\n",
       "    .dataframe thead th {\n",
       "        text-align: right;\n",
       "    }\n",
       "</style>\n",
       "<table border=\"1\" class=\"dataframe\">\n",
       "  <thead>\n",
       "    <tr style=\"text-align: right;\">\n",
       "      <th></th>\n",
       "      <th>features</th>\n",
       "      <th>percentage</th>\n",
       "    </tr>\n",
       "  </thead>\n",
       "  <tbody>\n",
       "    <tr>\n",
       "      <th>0</th>\n",
       "      <td>passenger_count</td>\n",
       "      <td>0.342338</td>\n",
       "    </tr>\n",
       "    <tr>\n",
       "      <th>1</th>\n",
       "      <td>fare_amount</td>\n",
       "      <td>0.155608</td>\n",
       "    </tr>\n",
       "    <tr>\n",
       "      <th>2</th>\n",
       "      <td>pickup_longitude</td>\n",
       "      <td>0.000000</td>\n",
       "    </tr>\n",
       "    <tr>\n",
       "      <th>3</th>\n",
       "      <td>pickup_latitude</td>\n",
       "      <td>0.000000</td>\n",
       "    </tr>\n",
       "    <tr>\n",
       "      <th>4</th>\n",
       "      <td>dropoff_longitude</td>\n",
       "      <td>0.000000</td>\n",
       "    </tr>\n",
       "    <tr>\n",
       "      <th>5</th>\n",
       "      <td>dropoff_latitude</td>\n",
       "      <td>0.000000</td>\n",
       "    </tr>\n",
       "    <tr>\n",
       "      <th>6</th>\n",
       "      <td>pickup_date</td>\n",
       "      <td>0.000000</td>\n",
       "    </tr>\n",
       "    <tr>\n",
       "      <th>7</th>\n",
       "      <td>pickup_day</td>\n",
       "      <td>0.000000</td>\n",
       "    </tr>\n",
       "    <tr>\n",
       "      <th>8</th>\n",
       "      <td>pickup_hour</td>\n",
       "      <td>0.000000</td>\n",
       "    </tr>\n",
       "    <tr>\n",
       "      <th>9</th>\n",
       "      <td>pickup_month</td>\n",
       "      <td>0.000000</td>\n",
       "    </tr>\n",
       "    <tr>\n",
       "      <th>10</th>\n",
       "      <td>pickup_year</td>\n",
       "      <td>0.000000</td>\n",
       "    </tr>\n",
       "    <tr>\n",
       "      <th>11</th>\n",
       "      <td>pickup_day_of_week</td>\n",
       "      <td>0.000000</td>\n",
       "    </tr>\n",
       "  </tbody>\n",
       "</table>\n",
       "</div>"
      ],
      "text/plain": [
       "              features  percentage\n",
       "0      passenger_count    0.342338\n",
       "1          fare_amount    0.155608\n",
       "2     pickup_longitude    0.000000\n",
       "3      pickup_latitude    0.000000\n",
       "4    dropoff_longitude    0.000000\n",
       "5     dropoff_latitude    0.000000\n",
       "6          pickup_date    0.000000\n",
       "7           pickup_day    0.000000\n",
       "8          pickup_hour    0.000000\n",
       "9         pickup_month    0.000000\n",
       "10         pickup_year    0.000000\n",
       "11  pickup_day_of_week    0.000000"
      ]
     },
     "execution_count": 67,
     "metadata": {},
     "output_type": "execute_result"
    }
   ],
   "source": [
    "# creating data frame with missing values \n",
    "missing_data=pd.DataFrame(train.isnull().sum())\n",
    "# reseting index\n",
    "missing_data=missing_data.reset_index()\n",
    "# renaming columns\n",
    "missing_data=missing_data.rename(columns={'index':\"features\",0:\"percentage\"})\n",
    "# converting into percentage\n",
    "missing_data[\"percentage\"]=(missing_data[\"percentage\"]/len(train))*100\n",
    "# decending order\n",
    "missing_data=missing_data.sort_values(\"percentage\", ascending = False).reset_index(drop = True)\n",
    "# saving in a csv file.\n",
    "missing_data"
   ]
  },
  {
   "cell_type": "code",
   "execution_count": null,
   "metadata": {},
   "outputs": [],
   "source": [
    "# knn\n",
    "train=pd.DataFrame(KNN(k=3).fit_transform(train),columns=train.columns)\n",
    "\n"
   ]
  },
  {
   "cell_type": "code",
   "execution_count": 69,
   "metadata": {},
   "outputs": [],
   "source": [
    "#Convert into proper datatypes\n",
    "caterical_var=[\"pickup_date\",\"pickup_day_of_week\"]\n",
    "for i in caterical_var:\n",
    "    train.loc[:,i] = train.loc[:,i].round()\n",
    "    train.loc[:,i] = train.loc[:,i].astype('object')"
   ]
  },
  {
   "cell_type": "code",
   "execution_count": 70,
   "metadata": {},
   "outputs": [],
   "source": [
    "# # Let us round passenger_count\n",
    "train['passenger_count']=train['passenger_count'].round()\n",
    "# Let us round fare to 2 decimal places\n",
    "train['fare_amount']=train['fare_amount'].apply(lambda x:round(x,2))\n"
   ]
  },
  {
   "cell_type": "code",
   "execution_count": 71,
   "metadata": {},
   "outputs": [
    {
     "data": {
      "text/plain": [
       "fare_amount           0.0\n",
       "pickup_longitude      0.0\n",
       "pickup_latitude       0.0\n",
       "dropoff_longitude     0.0\n",
       "dropoff_latitude      0.0\n",
       "passenger_count       0.0\n",
       "pickup_date           0.0\n",
       "pickup_day            0.0\n",
       "pickup_hour           0.0\n",
       "pickup_month          0.0\n",
       "pickup_year           0.0\n",
       "pickup_day_of_week    0.0\n",
       "dtype: float64"
      ]
     },
     "execution_count": 71,
     "metadata": {},
     "output_type": "execute_result"
    }
   ],
   "source": [
    "# checking for missing values \n",
    "train[pd.isnull(train)].sum()"
   ]
  },
  {
   "cell_type": "code",
   "execution_count": 171,
   "metadata": {},
   "outputs": [
    {
     "data": {
      "text/html": [
       "<div>\n",
       "<style scoped>\n",
       "    .dataframe tbody tr th:only-of-type {\n",
       "        vertical-align: middle;\n",
       "    }\n",
       "\n",
       "    .dataframe tbody tr th {\n",
       "        vertical-align: top;\n",
       "    }\n",
       "\n",
       "    .dataframe thead th {\n",
       "        text-align: right;\n",
       "    }\n",
       "</style>\n",
       "<table border=\"1\" class=\"dataframe\">\n",
       "  <thead>\n",
       "    <tr style=\"text-align: right;\">\n",
       "      <th></th>\n",
       "      <th>fare_amount</th>\n",
       "      <th>pickup_longitude</th>\n",
       "      <th>pickup_latitude</th>\n",
       "      <th>dropoff_longitude</th>\n",
       "      <th>dropoff_latitude</th>\n",
       "      <th>passenger_count</th>\n",
       "      <th>pickup_date</th>\n",
       "      <th>pickup_day</th>\n",
       "      <th>pickup_hour</th>\n",
       "      <th>pickup_month</th>\n",
       "      <th>pickup_year</th>\n",
       "      <th>pickup_day_of_week</th>\n",
       "    </tr>\n",
       "  </thead>\n",
       "  <tbody>\n",
       "    <tr>\n",
       "      <th>0</th>\n",
       "      <td>4.5</td>\n",
       "      <td>-73.844311</td>\n",
       "      <td>40.721319</td>\n",
       "      <td>-73.841610</td>\n",
       "      <td>40.712278</td>\n",
       "      <td>1.0</td>\n",
       "      <td>165</td>\n",
       "      <td>15.0</td>\n",
       "      <td>17.0</td>\n",
       "      <td>6.0</td>\n",
       "      <td>2009.0</td>\n",
       "      <td>1</td>\n",
       "    </tr>\n",
       "    <tr>\n",
       "      <th>1</th>\n",
       "      <td>16.9</td>\n",
       "      <td>-74.016048</td>\n",
       "      <td>40.711303</td>\n",
       "      <td>-73.979268</td>\n",
       "      <td>40.782004</td>\n",
       "      <td>1.0</td>\n",
       "      <td>369</td>\n",
       "      <td>5.0</td>\n",
       "      <td>16.0</td>\n",
       "      <td>1.0</td>\n",
       "      <td>2010.0</td>\n",
       "      <td>5</td>\n",
       "    </tr>\n",
       "    <tr>\n",
       "      <th>2</th>\n",
       "      <td>5.7</td>\n",
       "      <td>-73.982738</td>\n",
       "      <td>40.761270</td>\n",
       "      <td>-73.991242</td>\n",
       "      <td>40.750562</td>\n",
       "      <td>2.0</td>\n",
       "      <td>956</td>\n",
       "      <td>18.0</td>\n",
       "      <td>0.0</td>\n",
       "      <td>8.0</td>\n",
       "      <td>2011.0</td>\n",
       "      <td>4</td>\n",
       "    </tr>\n",
       "    <tr>\n",
       "      <th>3</th>\n",
       "      <td>7.7</td>\n",
       "      <td>-73.987130</td>\n",
       "      <td>40.733143</td>\n",
       "      <td>-73.991567</td>\n",
       "      <td>40.758092</td>\n",
       "      <td>1.0</td>\n",
       "      <td>1202</td>\n",
       "      <td>21.0</td>\n",
       "      <td>4.0</td>\n",
       "      <td>4.0</td>\n",
       "      <td>2012.0</td>\n",
       "      <td>2</td>\n",
       "    </tr>\n",
       "    <tr>\n",
       "      <th>4</th>\n",
       "      <td>5.3</td>\n",
       "      <td>-73.968095</td>\n",
       "      <td>40.768008</td>\n",
       "      <td>-73.956655</td>\n",
       "      <td>40.783762</td>\n",
       "      <td>1.0</td>\n",
       "      <td>431</td>\n",
       "      <td>9.0</td>\n",
       "      <td>7.0</td>\n",
       "      <td>3.0</td>\n",
       "      <td>2010.0</td>\n",
       "      <td>5</td>\n",
       "    </tr>\n",
       "  </tbody>\n",
       "</table>\n",
       "</div>"
      ],
      "text/plain": [
       "   fare_amount  pickup_longitude  pickup_latitude  dropoff_longitude  \\\n",
       "0          4.5        -73.844311        40.721319         -73.841610   \n",
       "1         16.9        -74.016048        40.711303         -73.979268   \n",
       "2          5.7        -73.982738        40.761270         -73.991242   \n",
       "3          7.7        -73.987130        40.733143         -73.991567   \n",
       "4          5.3        -73.968095        40.768008         -73.956655   \n",
       "\n",
       "   dropoff_latitude  passenger_count pickup_date  pickup_day  pickup_hour  \\\n",
       "0         40.712278              1.0         165        15.0         17.0   \n",
       "1         40.782004              1.0         369         5.0         16.0   \n",
       "2         40.750562              2.0         956        18.0          0.0   \n",
       "3         40.758092              1.0        1202        21.0          4.0   \n",
       "4         40.783762              1.0         431         9.0          7.0   \n",
       "\n",
       "   pickup_month  pickup_year pickup_day_of_week  \n",
       "0           6.0       2009.0                  1  \n",
       "1           1.0       2010.0                  5  \n",
       "2           8.0       2011.0                  4  \n",
       "3           4.0       2012.0                  2  \n",
       "4           3.0       2010.0                  5  "
      ]
     },
     "execution_count": 171,
     "metadata": {},
     "output_type": "execute_result"
    }
   ],
   "source": [
    "train.head()"
   ]
  },
  {
   "cell_type": "markdown",
   "metadata": {},
   "source": [
    "## Exploratory Data Analysis"
   ]
  },
  {
   "cell_type": "code",
   "execution_count": 72,
   "metadata": {},
   "outputs": [
    {
     "data": {
      "text/plain": [
       "Text(0.5, 1.0, 'Distribution of Trip Fare')"
      ]
     },
     "execution_count": 72,
     "metadata": {},
     "output_type": "execute_result"
    },
    {
     "data": {
      "image/png": "[encoded data removed]",
      "text/plain": [
       "<Figure size 576x360 with 1 Axes>"
      ]
     },
     "metadata": {
      "needs_background": "light"
     },
     "output_type": "display_data"
    }
   ],
   "source": [
    "plt.figure(figsize=(8,5))\n",
    "\n",
    "sns.kdeplot(train[\"fare_amount\"]).set_title(\"Distribution of Trip Fare\")"
   ]
  },
  {
   "cell_type": "code",
   "execution_count": 73,
   "metadata": {},
   "outputs": [
    {
     "name": "stdout",
     "output_type": "stream",
     "text": [
      "Maximum Fare: 54343  Min Fare:  -3\n"
     ]
    }
   ],
   "source": [
    "#max and min fare\n",
    "print('Maximum Fare: %d  Min Fare:  %d'%(train[\"fare_amount\"].max(), train[\"fare_amount\"].min()))\n",
    "  \n"
   ]
  },
  {
   "cell_type": "code",
   "execution_count": 79,
   "metadata": {},
   "outputs": [
    {
     "data": {
      "text/plain": [
       "(0, 12)"
      ]
     },
     "execution_count": 79,
     "metadata": {},
     "output_type": "execute_result"
    }
   ],
   "source": [
    "\n",
    "train[train[\"fare_amount\"]< 0].shape"
   ]
  },
  {
   "cell_type": "markdown",
   "metadata": {},
   "source": [
    "There are 3 records with negative fare. We will remove these records from the data"
   ]
  },
  {
   "cell_type": "code",
   "execution_count": 80,
   "metadata": {},
   "outputs": [
    {
     "data": {
      "text/plain": [
       "(16063, 12)"
      ]
     },
     "execution_count": 80,
     "metadata": {},
     "output_type": "execute_result"
    }
   ],
   "source": [
    "train=train[train[\"fare_amount\"]>=0]\n",
    "train.shape"
   ]
  },
  {
   "cell_type": "code",
   "execution_count": 81,
   "metadata": {},
   "outputs": [
    {
     "data": {
      "text/plain": [
       "fare_amount             486\n",
       "pickup_longitude      13787\n",
       "pickup_latitude       14237\n",
       "dropoff_longitude     13883\n",
       "dropoff_latitude      14260\n",
       "passenger_count          25\n",
       "pickup_date            2367\n",
       "pickup_day               31\n",
       "pickup_hour              24\n",
       "pickup_month             12\n",
       "pickup_year               7\n",
       "pickup_day_of_week        7\n",
       "dtype: int64"
      ]
     },
     "execution_count": 81,
     "metadata": {},
     "output_type": "execute_result"
    }
   ],
   "source": [
    "# Number of Unique values present in each variable\n",
    "train.nunique()"
   ]
  },
  {
   "cell_type": "markdown",
   "metadata": {},
   "source": [
    "Since we saw above that fare amount is highly skewed,let us take log transformation of the fare amount and plot the distribution"
   ]
  },
  {
   "cell_type": "code",
   "execution_count": 82,
   "metadata": {},
   "outputs": [
    {
     "data": {
      "text/plain": [
       "Text(0.5, 1.0, 'Distribution of fare amount (log scale)')"
      ]
     },
     "execution_count": 82,
     "metadata": {},
     "output_type": "execute_result"
    },
    {
     "data": {
      "image/png": "[encoded data removed]",
      "text/plain": [
       "<Figure size 576x360 with 1 Axes>"
      ]
     },
     "metadata": {
      "needs_background": "light"
     },
     "output_type": "display_data"
    }
   ],
   "source": [
    "plt.figure(figsize=(8,5))\n",
    "sns.kdeplot(np.log(train['fare_amount'].values)).set_title(\"Distribution of fare amount (log scale)\")"
   ]
  },
  {
   "cell_type": "markdown",
   "metadata": {},
   "source": [
    "Most fares are between 2.7 and 4.5 dollars "
   ]
  },
  {
   "cell_type": "markdown",
   "metadata": {},
   "source": [
    "Let us look at Geographical Features and their relationship with Fare Amount\n",
    "\n",
    "Distribution of Pickup and Dropoff Lat Lng"
   ]
  },
  {
   "cell_type": "code",
   "execution_count": 83,
   "metadata": {},
   "outputs": [
    {
     "name": "stdout",
     "output_type": "stream",
     "text": [
      "Range of pickup latitude is (  401.083332 , -74.006893  )\n",
      "Range of drop off latitude is (  41.366138 , -74.006377  )\n"
     ]
    }
   ],
   "source": [
    "print('Range of pickup latitude is ( ',(train.pickup_latitude.max()),',',(train.pickup_latitude.min()),' )')\n",
    "\n",
    "print('Range of drop off latitude is ( ',(train.dropoff_latitude.max()),',',(train.dropoff_latitude.min()),' )')"
   ]
  },
  {
   "cell_type": "code",
   "execution_count": null,
   "metadata": {},
   "outputs": [],
   "source": []
  },
  {
   "cell_type": "code",
   "execution_count": 84,
   "metadata": {},
   "outputs": [
    {
     "name": "stdout",
     "output_type": "stream",
     "text": [
      "Range of pickup longitude is (  40.766125 , -74.438233  )\n",
      "Range of dropoff longitude is (  40.802437 , -74.42933199999999  )\n"
     ]
    }
   ],
   "source": [
    "print('Range of pickup longitude is ( ',(train.pickup_longitude.max()),',',(train.pickup_longitude.min()),' )')\n",
    "\n",
    "print('Range of dropoff longitude is ( ',(train.dropoff_longitude.max()),',',(train.dropoff_longitude.min()),' )')"
   ]
  },
  {
   "cell_type": "markdown",
   "metadata": {},
   "source": [
    "\n",
    "From above values  we can say that The data is for cab Rides in Newyork, whose center lat, lng is at ((40,-74).The range of dropoff and pickup latitudes indicates lot of outlier locations in the train data."
   ]
  },
  {
   "cell_type": "code",
   "execution_count": 85,
   "metadata": {},
   "outputs": [
    {
     "name": "stdout",
     "output_type": "stream",
     "text": [
      "Longitude Boundary in test data\n",
      "-74.263242 -72.986532\n"
     ]
    }
   ],
   "source": [
    "# lets check boundaries for the test data also\n",
    "\n",
    "test=pd.read_csv(\"test.csv\")\n",
    "print(\"Longitude Boundary in test data\")\n",
    "print(min(test.pickup_longitude.min(), test.dropoff_longitude.min()),max(test.pickup_longitude.max(), test.dropoff_longitude.max()))"
   ]
  },
  {
   "cell_type": "code",
   "execution_count": 86,
   "metadata": {},
   "outputs": [
    {
     "name": "stdout",
     "output_type": "stream",
     "text": [
      "Latitude Boundary in test data\n"
     ]
    },
    {
     "data": {
      "text/plain": [
       "(40.573143, 41.709555)"
      ]
     },
     "execution_count": 86,
     "metadata": {},
     "output_type": "execute_result"
    }
   ],
   "source": [
    "print(\"Latitude Boundary in test data\")\n",
    "min(test.pickup_latitude.min(), test.pickup_latitude.min()),max(test.pickup_latitude.max(), test.pickup_latitude.max())"
   ]
  },
  {
   "cell_type": "markdown",
   "metadata": {},
   "source": [
    "Let us set the boundary for the train data also based on test data lat lng boundaries.We will mark the outlier locations as 1 and remove them for further analysis"
   ]
  },
  {
   "cell_type": "code",
   "execution_count": 87,
   "metadata": {},
   "outputs": [],
   "source": [
    "boundary={'min_lng':-74.263242,\n",
    "              'min_lat':40.573143,\n",
    "              'max_lng':-72.986532, \n",
    "              'max_lat':41.709555}"
   ]
  },
  {
   "cell_type": "markdown",
   "metadata": {},
   "source": [
    "There are a lot of cases where lat lng is zero. How many such cases are there in the data?"
   ]
  },
  {
   "cell_type": "code",
   "execution_count": 88,
   "metadata": {},
   "outputs": [
    {
     "data": {
      "text/plain": [
       "(314, 12)"
      ]
     },
     "execution_count": 88,
     "metadata": {},
     "output_type": "execute_result"
    }
   ],
   "source": [
    "train[(train.pickup_latitude==0) | (train.pickup_longitude)==0 | (train.dropoff_latitude==0)|(train.dropoff_longitude==0)].shape"
   ]
  },
  {
   "cell_type": "markdown",
   "metadata": {},
   "source": [
    "let us create a field called is_outlier_loc and mark as 1 in case it is an outlier. Any point beyond NYC border is an outlier. We will also drop all rows where the pickup or dropoff location is an outlier"
   ]
  },
  {
   "cell_type": "code",
   "execution_count": 89,
   "metadata": {},
   "outputs": [
    {
     "name": "stdout",
     "output_type": "stream",
     "text": [
      "Outlier vs Non Outlier Counts\n",
      "0.0    15709\n",
      "1.0      354\n",
      "Name: is_outlier_loc, dtype: int64\n"
     ]
    }
   ],
   "source": [
    "train.loc[~((train.pickup_longitude >= boundary['min_lng'] ) & (train.pickup_longitude <= boundary['max_lng']) &\n",
    "            (train.pickup_latitude >= boundary['min_lat']) & (train.pickup_latitude <= boundary['max_lat']) &\n",
    "            (train.dropoff_longitude >= boundary['min_lng']) & (train.dropoff_longitude <= boundary['max_lng']) &\n",
    "            (train.dropoff_latitude >=boundary['min_lat']) & (train.dropoff_latitude <= boundary['max_lat'])),'is_outlier_loc']=1\n",
    "\n",
    "\n",
    "train.loc[((train.pickup_longitude >= boundary['min_lng'] ) & (train.pickup_longitude <= boundary['max_lng']) &\n",
    "            (train.pickup_latitude >= boundary['min_lat']) & (train.pickup_latitude <= boundary['max_lat']) &\n",
    "            (train.dropoff_longitude >= boundary['min_lng']) & (train.dropoff_longitude <= boundary['max_lng']) &\n",
    "            (train.dropoff_latitude >=boundary['min_lat']) & (train.dropoff_latitude <= boundary['max_lat'])),'is_outlier_loc']=0\n",
    "\n",
    "# train.loc[(train.pickup_latitude==0) | (train.pickup_longitude)==0 | (train.dropoff_latitude==0)|(train.dropoff_longitude==0),'is_outlier_loc']=1\n",
    "\n",
    "print(\"Outlier vs Non Outlier Counts\")\n",
    "print(train['is_outlier_loc'].value_counts())\n"
   ]
  },
  {
   "cell_type": "code",
   "execution_count": 90,
   "metadata": {},
   "outputs": [],
   "source": [
    "# Let us drop rows, where location is outlier\n",
    "train=train.loc[train['is_outlier_loc']==0]\n",
    "train.drop(['is_outlier_loc'],axis=1,inplace=True)"
   ]
  },
  {
   "cell_type": "code",
   "execution_count": 91,
   "metadata": {},
   "outputs": [
    {
     "data": {
      "text/plain": [
       "(-74.03, -73.75)"
      ]
     },
     "execution_count": 91,
     "metadata": {},
     "output_type": "execute_result"
    },
    {
     "data": {
      "image/png": "[encoded data removed]",
      "text/plain": [
       "<Figure size 432x288 with 1 Axes>"
      ]
     },
     "metadata": {
      "needs_background": "light"
     },
     "output_type": "display_data"
    }
   ],
   "source": [
    "city_long_border = (-74.03, -73.75)\n",
    "city_lat_border = (40.63, 40.85)\n",
    "\n",
    "\n",
    "train.plot(kind='scatter', x='pickup_longitude', y='pickup_latitude',\n",
    "                color='blue', \n",
    "                s=.02, alpha=.6)\n",
    "plt.title(\"Pickups\")\n",
    "\n",
    "plt.ylim(city_lat_border)\n",
    "plt.xlim(city_long_border)"
   ]
  },
  {
   "cell_type": "code",
   "execution_count": 92,
   "metadata": {},
   "outputs": [
    {
     "data": {
      "text/plain": [
       "(-74.03, -73.75)"
      ]
     },
     "execution_count": 92,
     "metadata": {},
     "output_type": "execute_result"
    },
    {
     "data": {
      "image/png": "[encoded data removed]",
      "text/plain": [
       "<Figure size 432x288 with 1 Axes>"
      ]
     },
     "metadata": {
      "needs_background": "light"
     },
     "output_type": "display_data"
    }
   ],
   "source": [
    "\n",
    "train.plot(kind='scatter', x='dropoff_longitude', y='dropoff_latitude',\n",
    "                color='green', \n",
    "                s=.02, alpha=.6)\n",
    "plt.title(\"Dropoffs\")\n",
    "\n",
    "plt.ylim(city_lat_border)\n",
    "plt.xlim(city_long_border)\n",
    "\n"
   ]
  },
  {
   "cell_type": "code",
   "execution_count": null,
   "metadata": {},
   "outputs": [],
   "source": []
  },
  {
   "cell_type": "code",
   "execution_count": 93,
   "metadata": {},
   "outputs": [
    {
     "data": {
      "text/html": [
       "<div>\n",
       "<style scoped>\n",
       "    .dataframe tbody tr th:only-of-type {\n",
       "        vertical-align: middle;\n",
       "    }\n",
       "\n",
       "    .dataframe tbody tr th {\n",
       "        vertical-align: top;\n",
       "    }\n",
       "\n",
       "    .dataframe thead th {\n",
       "        text-align: right;\n",
       "    }\n",
       "</style>\n",
       "<table border=\"1\" class=\"dataframe\">\n",
       "  <thead>\n",
       "    <tr style=\"text-align: right;\">\n",
       "      <th></th>\n",
       "      <th>pickup_latitude</th>\n",
       "      <th>pickup_longitude</th>\n",
       "      <th>avg_fare</th>\n",
       "    </tr>\n",
       "  </thead>\n",
       "  <tbody>\n",
       "    <tr>\n",
       "      <th>0</th>\n",
       "      <td>40.604462</td>\n",
       "      <td>-73.780495</td>\n",
       "      <td>5.5</td>\n",
       "    </tr>\n",
       "    <tr>\n",
       "      <th>1</th>\n",
       "      <td>40.609495</td>\n",
       "      <td>-74.089848</td>\n",
       "      <td>7.7</td>\n",
       "    </tr>\n",
       "    <tr>\n",
       "      <th>2</th>\n",
       "      <td>40.614803</td>\n",
       "      <td>-73.943923</td>\n",
       "      <td>5.5</td>\n",
       "    </tr>\n",
       "    <tr>\n",
       "      <th>3</th>\n",
       "      <td>40.616788</td>\n",
       "      <td>-73.928838</td>\n",
       "      <td>12.5</td>\n",
       "    </tr>\n",
       "    <tr>\n",
       "      <th>4</th>\n",
       "      <td>40.619563</td>\n",
       "      <td>-73.960442</td>\n",
       "      <td>8.5</td>\n",
       "    </tr>\n",
       "  </tbody>\n",
       "</table>\n",
       "</div>"
      ],
      "text/plain": [
       "   pickup_latitude  pickup_longitude  avg_fare\n",
       "0        40.604462        -73.780495       5.5\n",
       "1        40.609495        -74.089848       7.7\n",
       "2        40.614803        -73.943923       5.5\n",
       "3        40.616788        -73.928838      12.5\n",
       "4        40.619563        -73.960442       8.5"
      ]
     },
     "execution_count": 93,
     "metadata": {},
     "output_type": "execute_result"
    }
   ],
   "source": [
    "pickup_fare_amount=train.groupby(['pickup_latitude','pickup_longitude'])['fare_amount'].mean().reset_index().rename(columns={'fare_amount':'avg_fare'})\n",
    "pickup_fare_amount.head()"
   ]
  },
  {
   "cell_type": "markdown",
   "metadata": {},
   "source": [
    "### Trip Distance "
   ]
  },
  {
   "cell_type": "code",
   "execution_count": 94,
   "metadata": {},
   "outputs": [],
   "source": [
    "'''Using the pickup and drop-off coordinates we calculate the trip distance in miles based on Haversine Distance.'''\n",
    "\n",
    "#calculate trip distance in miles\n",
    "def distance(lat1, lat2, lon1,lon2):\n",
    "    p = 0.017453292519943295 # Pi/180\n",
    "    a = 0.5 - np.cos((lat2 - lat1) * p)/2 + np.cos(lat1 * p) * np.cos(lat2 * p) * (1 - np.cos((lon2 - lon1) * p)) / 2\n",
    "    return 0.6213712 * 12742 * np.arcsin(np.sqrt(a))"
   ]
  },
  {
   "cell_type": "code",
   "execution_count": 95,
   "metadata": {},
   "outputs": [],
   "source": [
    "train[\"trip_distance\"]=train.apply(lambda row:distance(row['pickup_latitude'],row['dropoff_latitude'],row['pickup_longitude'],row['dropoff_longitude']),axis=1)"
   ]
  },
  {
   "cell_type": "code",
   "execution_count": 96,
   "metadata": {},
   "outputs": [
    {
     "data": {
      "text/html": [
       "<div>\n",
       "<style scoped>\n",
       "    .dataframe tbody tr th:only-of-type {\n",
       "        vertical-align: middle;\n",
       "    }\n",
       "\n",
       "    .dataframe tbody tr th {\n",
       "        vertical-align: top;\n",
       "    }\n",
       "\n",
       "    .dataframe thead th {\n",
       "        text-align: right;\n",
       "    }\n",
       "</style>\n",
       "<table border=\"1\" class=\"dataframe\">\n",
       "  <thead>\n",
       "    <tr style=\"text-align: right;\">\n",
       "      <th></th>\n",
       "      <th>fare_amount</th>\n",
       "      <th>pickup_longitude</th>\n",
       "      <th>pickup_latitude</th>\n",
       "      <th>dropoff_longitude</th>\n",
       "      <th>dropoff_latitude</th>\n",
       "      <th>passenger_count</th>\n",
       "      <th>pickup_date</th>\n",
       "      <th>pickup_day</th>\n",
       "      <th>pickup_hour</th>\n",
       "      <th>pickup_month</th>\n",
       "      <th>pickup_year</th>\n",
       "      <th>pickup_day_of_week</th>\n",
       "      <th>trip_distance</th>\n",
       "    </tr>\n",
       "  </thead>\n",
       "  <tbody>\n",
       "    <tr>\n",
       "      <th>0</th>\n",
       "      <td>4.5</td>\n",
       "      <td>-73.844311</td>\n",
       "      <td>40.721319</td>\n",
       "      <td>-73.841610</td>\n",
       "      <td>40.712278</td>\n",
       "      <td>1.0</td>\n",
       "      <td>165</td>\n",
       "      <td>15.0</td>\n",
       "      <td>17.0</td>\n",
       "      <td>6.0</td>\n",
       "      <td>2009.0</td>\n",
       "      <td>1</td>\n",
       "      <td>0.640487</td>\n",
       "    </tr>\n",
       "    <tr>\n",
       "      <th>1</th>\n",
       "      <td>16.9</td>\n",
       "      <td>-74.016048</td>\n",
       "      <td>40.711303</td>\n",
       "      <td>-73.979268</td>\n",
       "      <td>40.782004</td>\n",
       "      <td>1.0</td>\n",
       "      <td>369</td>\n",
       "      <td>5.0</td>\n",
       "      <td>16.0</td>\n",
       "      <td>1.0</td>\n",
       "      <td>2010.0</td>\n",
       "      <td>5</td>\n",
       "      <td>5.250670</td>\n",
       "    </tr>\n",
       "    <tr>\n",
       "      <th>2</th>\n",
       "      <td>5.7</td>\n",
       "      <td>-73.982738</td>\n",
       "      <td>40.761270</td>\n",
       "      <td>-73.991242</td>\n",
       "      <td>40.750562</td>\n",
       "      <td>2.0</td>\n",
       "      <td>956</td>\n",
       "      <td>18.0</td>\n",
       "      <td>0.0</td>\n",
       "      <td>8.0</td>\n",
       "      <td>2011.0</td>\n",
       "      <td>4</td>\n",
       "      <td>0.863411</td>\n",
       "    </tr>\n",
       "    <tr>\n",
       "      <th>3</th>\n",
       "      <td>7.7</td>\n",
       "      <td>-73.987130</td>\n",
       "      <td>40.733143</td>\n",
       "      <td>-73.991567</td>\n",
       "      <td>40.758092</td>\n",
       "      <td>1.0</td>\n",
       "      <td>1202</td>\n",
       "      <td>21.0</td>\n",
       "      <td>4.0</td>\n",
       "      <td>4.0</td>\n",
       "      <td>2012.0</td>\n",
       "      <td>2</td>\n",
       "      <td>1.739386</td>\n",
       "    </tr>\n",
       "    <tr>\n",
       "      <th>4</th>\n",
       "      <td>5.3</td>\n",
       "      <td>-73.968095</td>\n",
       "      <td>40.768008</td>\n",
       "      <td>-73.956655</td>\n",
       "      <td>40.783762</td>\n",
       "      <td>1.0</td>\n",
       "      <td>431</td>\n",
       "      <td>9.0</td>\n",
       "      <td>7.0</td>\n",
       "      <td>3.0</td>\n",
       "      <td>2010.0</td>\n",
       "      <td>5</td>\n",
       "      <td>1.242218</td>\n",
       "    </tr>\n",
       "  </tbody>\n",
       "</table>\n",
       "</div>"
      ],
      "text/plain": [
       "   fare_amount  pickup_longitude  pickup_latitude  dropoff_longitude  \\\n",
       "0          4.5        -73.844311        40.721319         -73.841610   \n",
       "1         16.9        -74.016048        40.711303         -73.979268   \n",
       "2          5.7        -73.982738        40.761270         -73.991242   \n",
       "3          7.7        -73.987130        40.733143         -73.991567   \n",
       "4          5.3        -73.968095        40.768008         -73.956655   \n",
       "\n",
       "   dropoff_latitude  passenger_count pickup_date  pickup_day  pickup_hour  \\\n",
       "0         40.712278              1.0         165        15.0         17.0   \n",
       "1         40.782004              1.0         369         5.0         16.0   \n",
       "2         40.750562              2.0         956        18.0          0.0   \n",
       "3         40.758092              1.0        1202        21.0          4.0   \n",
       "4         40.783762              1.0         431         9.0          7.0   \n",
       "\n",
       "   pickup_month  pickup_year pickup_day_of_week  trip_distance  \n",
       "0           6.0       2009.0                  1       0.640487  \n",
       "1           1.0       2010.0                  5       5.250670  \n",
       "2           8.0       2011.0                  4       0.863411  \n",
       "3           4.0       2012.0                  2       1.739386  \n",
       "4           3.0       2010.0                  5       1.242218  "
      ]
     },
     "execution_count": 96,
     "metadata": {},
     "output_type": "execute_result"
    }
   ],
   "source": [
    "train.head()"
   ]
  },
  {
   "cell_type": "code",
   "execution_count": 97,
   "metadata": {},
   "outputs": [
    {
     "name": "stdout",
     "output_type": "stream",
     "text": [
      "Maximum trip distance : 62  \n"
     ]
    }
   ],
   "source": [
    "# max  trip distance \n",
    "print('Maximum trip distance : %d  '%(train[\"trip_distance\"].max()))\n",
    " "
   ]
  },
  {
   "cell_type": "code",
   "execution_count": 98,
   "metadata": {},
   "outputs": [
    {
     "data": {
      "text/plain": [
       "Text(0.5, 1.0, 'Distribution of Trip Distance')"
      ]
     },
     "execution_count": 98,
     "metadata": {},
     "output_type": "execute_result"
    },
    {
     "data": {
      "image/png": "[encoded data removed]",
      "text/plain": [
       "<Figure size 432x288 with 1 Axes>"
      ]
     },
     "metadata": {
      "needs_background": "light"
     },
     "output_type": "display_data"
    }
   ],
   "source": [
    "sns.kdeplot(train['trip_distance'].values).set_title(\"Distribution of Trip Distance\")"
   ]
  },
  {
   "cell_type": "code",
   "execution_count": 99,
   "metadata": {},
   "outputs": [
    {
     "data": {
      "text/plain": [
       "Text(0.5, 1.0, 'Trip Distance vs Fare Amount')"
      ]
     },
     "execution_count": 99,
     "metadata": {},
     "output_type": "execute_result"
    },
    {
     "data": {
      "image/png": "[encoded data removed]",
      "text/plain": [
       "<Figure size 432x288 with 1 Axes>"
      ]
     },
     "metadata": {
      "needs_background": "light"
     },
     "output_type": "display_data"
    }
   ],
   "source": [
    "plt.scatter(x=train['trip_distance'],y=train['fare_amount'])\n",
    "plt.xlabel(\"Trip Distance\")\n",
    "plt.ylabel(\"Fare Amount\")\n",
    "plt.title(\"Trip Distance vs Fare Amount\")"
   ]
  },
  {
   "cell_type": "code",
   "execution_count": 100,
   "metadata": {},
   "outputs": [],
   "source": [
    "train_copy=train.copy()"
   ]
  },
  {
   "cell_type": "markdown",
   "metadata": {},
   "source": [
    "## Outlier Analysis"
   ]
  },
  {
   "cell_type": "code",
   "execution_count": 102,
   "metadata": {},
   "outputs": [
    {
     "data": {
      "image/png": "[encoded data removed]",
      "text/plain": [
       "<Figure size 432x288 with 1 Axes>"
      ]
     },
     "metadata": {
      "needs_background": "light"
     },
     "output_type": "display_data"
    },
    {
     "data": {
      "image/png": "[encoded data removed]",
      "text/plain": [
       "<Figure size 432x288 with 1 Axes>"
      ]
     },
     "metadata": {
      "needs_background": "light"
     },
     "output_type": "display_data"
    },
    {
     "data": {
      "image/png": "[encoded data removed]",
      "text/plain": [
       "<Figure size 432x288 with 1 Axes>"
      ]
     },
     "metadata": {
      "needs_background": "light"
     },
     "output_type": "display_data"
    }
   ],
   "source": [
    "numeric_variables=['fare_amount', 'passenger_count','trip_distance']\n",
    "\n",
    "plt.suptitle(\"Univariate boxplot\",fontsize=20)\n",
    "for i in numeric_variables :\n",
    "    sns.boxplot(\n",
    "    y = train[i],\n",
    "    data=train)\n",
    "    plt.show()\n",
    "#     plt.savefig(\"outlier.png\")"
   ]
  },
  {
   "cell_type": "code",
   "execution_count": 190,
   "metadata": {},
   "outputs": [
    {
     "data": {
      "text/html": [
       "<div>\n",
       "<style scoped>\n",
       "    .dataframe tbody tr th:only-of-type {\n",
       "        vertical-align: middle;\n",
       "    }\n",
       "\n",
       "    .dataframe tbody tr th {\n",
       "        vertical-align: top;\n",
       "    }\n",
       "\n",
       "    .dataframe thead th {\n",
       "        text-align: right;\n",
       "    }\n",
       "</style>\n",
       "<table border=\"1\" class=\"dataframe\">\n",
       "  <thead>\n",
       "    <tr style=\"text-align: right;\">\n",
       "      <th></th>\n",
       "      <th>fare_amount</th>\n",
       "      <th>pickup_longitude</th>\n",
       "      <th>pickup_latitude</th>\n",
       "      <th>dropoff_longitude</th>\n",
       "      <th>dropoff_latitude</th>\n",
       "      <th>passenger_count</th>\n",
       "      <th>pickup_date</th>\n",
       "      <th>pickup_day</th>\n",
       "      <th>pickup_hour</th>\n",
       "      <th>pickup_month</th>\n",
       "      <th>pickup_year</th>\n",
       "      <th>pickup_day_of_week</th>\n",
       "      <th>trip_distance</th>\n",
       "    </tr>\n",
       "  </thead>\n",
       "  <tbody>\n",
       "    <tr>\n",
       "      <th>1015</th>\n",
       "      <td>54343.0</td>\n",
       "      <td>-74.003319</td>\n",
       "      <td>40.727455</td>\n",
       "      <td>-73.96447</td>\n",
       "      <td>40.764378</td>\n",
       "      <td>1.0</td>\n",
       "      <td>2243</td>\n",
       "      <td>27.0</td>\n",
       "      <td>17.0</td>\n",
       "      <td>2.0</td>\n",
       "      <td>2015.0</td>\n",
       "      <td>0</td>\n",
       "      <td>3.262442</td>\n",
       "    </tr>\n",
       "  </tbody>\n",
       "</table>\n",
       "</div>"
      ],
      "text/plain": [
       "      fare_amount  pickup_longitude  pickup_latitude  dropoff_longitude  \\\n",
       "1015      54343.0        -74.003319        40.727455          -73.96447   \n",
       "\n",
       "      dropoff_latitude  passenger_count pickup_date  pickup_day  pickup_hour  \\\n",
       "1015         40.764378              1.0        2243        27.0         17.0   \n",
       "\n",
       "      pickup_month  pickup_year pickup_day_of_week  trip_distance  \n",
       "1015           2.0       2015.0                  0       3.262442  "
      ]
     },
     "execution_count": 190,
     "metadata": {},
     "output_type": "execute_result"
    }
   ],
   "source": [
    "train[train[\"fare_amount\"]==train[\"fare_amount\"].max()]"
   ]
  },
  {
   "cell_type": "markdown",
   "metadata": {},
   "source": [
    " here no of passengers is 1 and trip distance is 3.2 miles but fare is 54343"
   ]
  },
  {
   "cell_type": "code",
   "execution_count": 191,
   "metadata": {},
   "outputs": [
    {
     "data": {
      "text/html": [
       "<div>\n",
       "<style scoped>\n",
       "    .dataframe tbody tr th:only-of-type {\n",
       "        vertical-align: middle;\n",
       "    }\n",
       "\n",
       "    .dataframe tbody tr th {\n",
       "        vertical-align: top;\n",
       "    }\n",
       "\n",
       "    .dataframe thead th {\n",
       "        text-align: right;\n",
       "    }\n",
       "</style>\n",
       "<table border=\"1\" class=\"dataframe\">\n",
       "  <thead>\n",
       "    <tr style=\"text-align: right;\">\n",
       "      <th></th>\n",
       "      <th>fare_amount</th>\n",
       "      <th>pickup_longitude</th>\n",
       "      <th>pickup_latitude</th>\n",
       "      <th>dropoff_longitude</th>\n",
       "      <th>dropoff_latitude</th>\n",
       "      <th>passenger_count</th>\n",
       "      <th>pickup_date</th>\n",
       "      <th>pickup_day</th>\n",
       "      <th>pickup_hour</th>\n",
       "      <th>pickup_month</th>\n",
       "      <th>pickup_year</th>\n",
       "      <th>pickup_day_of_week</th>\n",
       "      <th>trip_distance</th>\n",
       "    </tr>\n",
       "  </thead>\n",
       "  <tbody>\n",
       "    <tr>\n",
       "      <th>1146</th>\n",
       "      <td>8.0</td>\n",
       "      <td>-73.991098</td>\n",
       "      <td>40.770655</td>\n",
       "      <td>-73.976933</td>\n",
       "      <td>40.79007</td>\n",
       "      <td>5345.0</td>\n",
       "      <td>1907</td>\n",
       "      <td>27.0</td>\n",
       "      <td>8.0</td>\n",
       "      <td>3.0</td>\n",
       "      <td>2014.0</td>\n",
       "      <td>4</td>\n",
       "      <td>1.532548</td>\n",
       "    </tr>\n",
       "  </tbody>\n",
       "</table>\n",
       "</div>"
      ],
      "text/plain": [
       "      fare_amount  pickup_longitude  pickup_latitude  dropoff_longitude  \\\n",
       "1146          8.0        -73.991098        40.770655         -73.976933   \n",
       "\n",
       "      dropoff_latitude  passenger_count pickup_date  pickup_day  pickup_hour  \\\n",
       "1146          40.79007           5345.0        1907        27.0          8.0   \n",
       "\n",
       "      pickup_month  pickup_year pickup_day_of_week  trip_distance  \n",
       "1146           3.0       2014.0                  4       1.532548  "
      ]
     },
     "execution_count": 191,
     "metadata": {},
     "output_type": "execute_result"
    }
   ],
   "source": [
    "train[train[\"passenger_count\"]==train[\"passenger_count\"].max()]"
   ]
  },
  {
   "cell_type": "markdown",
   "metadata": {},
   "source": [
    "here passengers count  is 5345.0 and trip distance is 1.5 miles but fare is 8.0"
   ]
  },
  {
   "cell_type": "code",
   "execution_count": 103,
   "metadata": {},
   "outputs": [
    {
     "data": {
      "text/plain": [
       "(18, 13)"
      ]
     },
     "execution_count": 103,
     "metadata": {},
     "output_type": "execute_result"
    }
   ],
   "source": [
    "#there are max of 6 passengers in test data so lets remove records having passengers count more than  6\n",
    "train[train[\"passenger_count\"]>6].shape\n"
   ]
  },
  {
   "cell_type": "code",
   "execution_count": 104,
   "metadata": {},
   "outputs": [],
   "source": [
    "train=train[train[\"passenger_count\"]<=6]"
   ]
  },
  {
   "cell_type": "code",
   "execution_count": null,
   "metadata": {},
   "outputs": [],
   "source": []
  },
  {
   "cell_type": "code",
   "execution_count": 105,
   "metadata": {},
   "outputs": [
    {
     "name": "stdout",
     "output_type": "stream",
     "text": [
      "<built-in function min>\n",
      "<built-in function max>\n"
     ]
    }
   ],
   "source": [
    "#Detect and replace with NA\n",
    "numeric_variables=['fare_amount']\n",
    "for i in numeric_variables:\n",
    "    q75, q25 = np.percentile(train.loc[:,i], [75, 25]) # #Extract quartiles\n",
    "    iqr = q75 - q25     # #Calculate IQR\n",
    "    # #Calculate inner and outer fence\n",
    "    minimum = q25 - (iqr*1.5)\n",
    "    maximum = q75 + (iqr*1.5)\n",
    "    print(min), print(max)\n",
    "    train.loc[train[i] < minimum,i] = np.nan\n",
    "    train.loc[train[i] > maximum, i] = np.nan"
   ]
  },
  {
   "cell_type": "code",
   "execution_count": 106,
   "metadata": {},
   "outputs": [
    {
     "data": {
      "text/plain": [
       "fare_amount           1357\n",
       "pickup_longitude         0\n",
       "pickup_latitude          0\n",
       "dropoff_longitude        0\n",
       "dropoff_latitude         0\n",
       "passenger_count          0\n",
       "pickup_date              0\n",
       "pickup_day               0\n",
       "pickup_hour              0\n",
       "pickup_month             0\n",
       "pickup_year              0\n",
       "pickup_day_of_week       0\n",
       "trip_distance            0\n",
       "dtype: int64"
      ]
     },
     "execution_count": 106,
     "metadata": {},
     "output_type": "execute_result"
    }
   ],
   "source": [
    "train.isnull().sum()"
   ]
  },
  {
   "cell_type": "code",
   "execution_count": null,
   "metadata": {},
   "outputs": [],
   "source": [
    "# knn imputation\n",
    "train=pd.DataFrame(KNN(k=3).fit_transform(train),columns=train.columns)\n"
   ]
  },
  {
   "cell_type": "code",
   "execution_count": 108,
   "metadata": {},
   "outputs": [],
   "source": [
    "# Let us round fare to 2 decimal places\n",
    "train['fare_amount']=train['fare_amount'].apply(lambda x:round(x,2))\n"
   ]
  },
  {
   "cell_type": "code",
   "execution_count": 109,
   "metadata": {},
   "outputs": [
    {
     "data": {
      "text/plain": [
       "fare_amount           0\n",
       "pickup_longitude      0\n",
       "pickup_latitude       0\n",
       "dropoff_longitude     0\n",
       "dropoff_latitude      0\n",
       "passenger_count       0\n",
       "pickup_date           0\n",
       "pickup_day            0\n",
       "pickup_hour           0\n",
       "pickup_month          0\n",
       "pickup_year           0\n",
       "pickup_day_of_week    0\n",
       "trip_distance         0\n",
       "dtype: int64"
      ]
     },
     "execution_count": 109,
     "metadata": {},
     "output_type": "execute_result"
    }
   ],
   "source": [
    "train.isnull().sum()"
   ]
  },
  {
   "cell_type": "code",
   "execution_count": 199,
   "metadata": {},
   "outputs": [
    {
     "data": {
      "text/html": [
       "<div>\n",
       "<style scoped>\n",
       "    .dataframe tbody tr th:only-of-type {\n",
       "        vertical-align: middle;\n",
       "    }\n",
       "\n",
       "    .dataframe tbody tr th {\n",
       "        vertical-align: top;\n",
       "    }\n",
       "\n",
       "    .dataframe thead th {\n",
       "        text-align: right;\n",
       "    }\n",
       "</style>\n",
       "<table border=\"1\" class=\"dataframe\">\n",
       "  <thead>\n",
       "    <tr style=\"text-align: right;\">\n",
       "      <th></th>\n",
       "      <th>fare_amount</th>\n",
       "      <th>pickup_longitude</th>\n",
       "      <th>pickup_latitude</th>\n",
       "      <th>dropoff_longitude</th>\n",
       "      <th>dropoff_latitude</th>\n",
       "      <th>passenger_count</th>\n",
       "      <th>pickup_date</th>\n",
       "      <th>pickup_day</th>\n",
       "      <th>pickup_hour</th>\n",
       "      <th>pickup_month</th>\n",
       "      <th>pickup_year</th>\n",
       "      <th>pickup_day_of_week</th>\n",
       "      <th>trip_distance</th>\n",
       "    </tr>\n",
       "  </thead>\n",
       "  <tbody>\n",
       "    <tr>\n",
       "      <th>count</th>\n",
       "      <td>15691.000000</td>\n",
       "      <td>15691.000000</td>\n",
       "      <td>15691.000000</td>\n",
       "      <td>15691.000000</td>\n",
       "      <td>15691.000000</td>\n",
       "      <td>15691.000000</td>\n",
       "      <td>15691.000000</td>\n",
       "      <td>15691.000000</td>\n",
       "      <td>15691.000000</td>\n",
       "      <td>15691.000000</td>\n",
       "      <td>15691.000000</td>\n",
       "      <td>15691.000000</td>\n",
       "      <td>15691.000000</td>\n",
       "    </tr>\n",
       "    <tr>\n",
       "      <th>mean</th>\n",
       "      <td>9.234712</td>\n",
       "      <td>-73.974744</td>\n",
       "      <td>40.751374</td>\n",
       "      <td>-73.973763</td>\n",
       "      <td>40.751918</td>\n",
       "      <td>1.643681</td>\n",
       "      <td>1170.137276</td>\n",
       "      <td>15.666114</td>\n",
       "      <td>13.505640</td>\n",
       "      <td>6.264801</td>\n",
       "      <td>2011.735517</td>\n",
       "      <td>2.997769</td>\n",
       "      <td>2.093492</td>\n",
       "    </tr>\n",
       "    <tr>\n",
       "      <th>std</th>\n",
       "      <td>4.207954</td>\n",
       "      <td>0.041114</td>\n",
       "      <td>0.031316</td>\n",
       "      <td>0.039078</td>\n",
       "      <td>0.033255</td>\n",
       "      <td>1.266191</td>\n",
       "      <td>676.137667</td>\n",
       "      <td>8.685063</td>\n",
       "      <td>6.505203</td>\n",
       "      <td>3.448342</td>\n",
       "      <td>1.867170</td>\n",
       "      <td>2.007458</td>\n",
       "      <td>2.553141</td>\n",
       "    </tr>\n",
       "    <tr>\n",
       "      <th>min</th>\n",
       "      <td>0.000000</td>\n",
       "      <td>-74.181602</td>\n",
       "      <td>40.604462</td>\n",
       "      <td>-74.183955</td>\n",
       "      <td>40.574652</td>\n",
       "      <td>0.000000</td>\n",
       "      <td>0.000000</td>\n",
       "      <td>1.000000</td>\n",
       "      <td>0.000000</td>\n",
       "      <td>1.000000</td>\n",
       "      <td>2009.000000</td>\n",
       "      <td>0.000000</td>\n",
       "      <td>0.000000</td>\n",
       "    </tr>\n",
       "    <tr>\n",
       "      <th>25%</th>\n",
       "      <td>6.000000</td>\n",
       "      <td>-73.992387</td>\n",
       "      <td>40.736658</td>\n",
       "      <td>-73.991370</td>\n",
       "      <td>40.736393</td>\n",
       "      <td>1.000000</td>\n",
       "      <td>582.000000</td>\n",
       "      <td>8.000000</td>\n",
       "      <td>9.000000</td>\n",
       "      <td>3.000000</td>\n",
       "      <td>2010.000000</td>\n",
       "      <td>1.000000</td>\n",
       "      <td>0.781260</td>\n",
       "    </tr>\n",
       "    <tr>\n",
       "      <th>50%</th>\n",
       "      <td>8.200000</td>\n",
       "      <td>-73.982050</td>\n",
       "      <td>40.753370</td>\n",
       "      <td>-73.980570</td>\n",
       "      <td>40.754277</td>\n",
       "      <td>1.000000</td>\n",
       "      <td>1167.000000</td>\n",
       "      <td>16.000000</td>\n",
       "      <td>14.000000</td>\n",
       "      <td>6.000000</td>\n",
       "      <td>2012.000000</td>\n",
       "      <td>3.000000</td>\n",
       "      <td>1.348773</td>\n",
       "    </tr>\n",
       "    <tr>\n",
       "      <th>75%</th>\n",
       "      <td>11.700000</td>\n",
       "      <td>-73.968109</td>\n",
       "      <td>40.767810</td>\n",
       "      <td>-73.965386</td>\n",
       "      <td>40.768349</td>\n",
       "      <td>2.000000</td>\n",
       "      <td>1742.000000</td>\n",
       "      <td>23.000000</td>\n",
       "      <td>19.000000</td>\n",
       "      <td>9.000000</td>\n",
       "      <td>2013.000000</td>\n",
       "      <td>5.000000</td>\n",
       "      <td>2.420309</td>\n",
       "    </tr>\n",
       "    <tr>\n",
       "      <th>max</th>\n",
       "      <td>22.100000</td>\n",
       "      <td>-73.137393</td>\n",
       "      <td>41.366138</td>\n",
       "      <td>-73.137393</td>\n",
       "      <td>41.366138</td>\n",
       "      <td>6.000000</td>\n",
       "      <td>2366.000000</td>\n",
       "      <td>31.000000</td>\n",
       "      <td>23.000000</td>\n",
       "      <td>12.000000</td>\n",
       "      <td>2015.000000</td>\n",
       "      <td>6.000000</td>\n",
       "      <td>62.817285</td>\n",
       "    </tr>\n",
       "  </tbody>\n",
       "</table>\n",
       "</div>"
      ],
      "text/plain": [
       "        fare_amount  pickup_longitude  pickup_latitude  dropoff_longitude  \\\n",
       "count  15691.000000      15691.000000     15691.000000       15691.000000   \n",
       "mean       9.234712        -73.974744        40.751374         -73.973763   \n",
       "std        4.207954          0.041114         0.031316           0.039078   \n",
       "min        0.000000        -74.181602        40.604462         -74.183955   \n",
       "25%        6.000000        -73.992387        40.736658         -73.991370   \n",
       "50%        8.200000        -73.982050        40.753370         -73.980570   \n",
       "75%       11.700000        -73.968109        40.767810         -73.965386   \n",
       "max       22.100000        -73.137393        41.366138         -73.137393   \n",
       "\n",
       "       dropoff_latitude  passenger_count   pickup_date    pickup_day  \\\n",
       "count      15691.000000     15691.000000  15691.000000  15691.000000   \n",
       "mean          40.751918         1.643681   1170.137276     15.666114   \n",
       "std            0.033255         1.266191    676.137667      8.685063   \n",
       "min           40.574652         0.000000      0.000000      1.000000   \n",
       "25%           40.736393         1.000000    582.000000      8.000000   \n",
       "50%           40.754277         1.000000   1167.000000     16.000000   \n",
       "75%           40.768349         2.000000   1742.000000     23.000000   \n",
       "max           41.366138         6.000000   2366.000000     31.000000   \n",
       "\n",
       "        pickup_hour  pickup_month   pickup_year  pickup_day_of_week  \\\n",
       "count  15691.000000  15691.000000  15691.000000        15691.000000   \n",
       "mean      13.505640      6.264801   2011.735517            2.997769   \n",
       "std        6.505203      3.448342      1.867170            2.007458   \n",
       "min        0.000000      1.000000   2009.000000            0.000000   \n",
       "25%        9.000000      3.000000   2010.000000            1.000000   \n",
       "50%       14.000000      6.000000   2012.000000            3.000000   \n",
       "75%       19.000000      9.000000   2013.000000            5.000000   \n",
       "max       23.000000     12.000000   2015.000000            6.000000   \n",
       "\n",
       "       trip_distance  \n",
       "count   15691.000000  \n",
       "mean        2.093492  \n",
       "std         2.553141  \n",
       "min         0.000000  \n",
       "25%         0.781260  \n",
       "50%         1.348773  \n",
       "75%         2.420309  \n",
       "max        62.817285  "
      ]
     },
     "execution_count": 199,
     "metadata": {},
     "output_type": "execute_result"
    }
   ],
   "source": [
    "train.describe()"
   ]
  },
  {
   "cell_type": "code",
   "execution_count": 71,
   "metadata": {},
   "outputs": [],
   "source": [
    "#train_copy.sort_values([\"trip_distance\",\"fare_amount\",\"passenger_count\"], ascending = False).head(100)"
   ]
  },
  {
   "cell_type": "code",
   "execution_count": 202,
   "metadata": {},
   "outputs": [
    {
     "data": {
      "text/html": [
       "<div>\n",
       "<style scoped>\n",
       "    .dataframe tbody tr th:only-of-type {\n",
       "        vertical-align: middle;\n",
       "    }\n",
       "\n",
       "    .dataframe tbody tr th {\n",
       "        vertical-align: top;\n",
       "    }\n",
       "\n",
       "    .dataframe thead th {\n",
       "        text-align: right;\n",
       "    }\n",
       "</style>\n",
       "<table border=\"1\" class=\"dataframe\">\n",
       "  <thead>\n",
       "    <tr style=\"text-align: right;\">\n",
       "      <th></th>\n",
       "      <th>fare_amount</th>\n",
       "      <th>pickup_longitude</th>\n",
       "      <th>pickup_latitude</th>\n",
       "      <th>dropoff_longitude</th>\n",
       "      <th>dropoff_latitude</th>\n",
       "      <th>passenger_count</th>\n",
       "      <th>pickup_date</th>\n",
       "      <th>pickup_day</th>\n",
       "      <th>pickup_hour</th>\n",
       "      <th>pickup_month</th>\n",
       "      <th>pickup_year</th>\n",
       "      <th>pickup_day_of_week</th>\n",
       "      <th>trip_distance</th>\n",
       "    </tr>\n",
       "  </thead>\n",
       "  <tbody>\n",
       "    <tr>\n",
       "      <th>5526</th>\n",
       "      <td>14.91</td>\n",
       "      <td>-73.137393</td>\n",
       "      <td>41.366138</td>\n",
       "      <td>-74.000940</td>\n",
       "      <td>40.731723</td>\n",
       "      <td>1.0</td>\n",
       "      <td>55.0</td>\n",
       "      <td>25.0</td>\n",
       "      <td>7.0</td>\n",
       "      <td>2.0</td>\n",
       "      <td>2009.0</td>\n",
       "      <td>6.0</td>\n",
       "      <td>62.817285</td>\n",
       "    </tr>\n",
       "    <tr>\n",
       "      <th>1633</th>\n",
       "      <td>2.50</td>\n",
       "      <td>-73.137393</td>\n",
       "      <td>41.366138</td>\n",
       "      <td>-73.996510</td>\n",
       "      <td>40.745320</td>\n",
       "      <td>2.0</td>\n",
       "      <td>121.0</td>\n",
       "      <td>2.0</td>\n",
       "      <td>19.0</td>\n",
       "      <td>5.0</td>\n",
       "      <td>2009.0</td>\n",
       "      <td>2.0</td>\n",
       "      <td>61.995186</td>\n",
       "    </tr>\n",
       "    <tr>\n",
       "      <th>2996</th>\n",
       "      <td>6.90</td>\n",
       "      <td>-73.137393</td>\n",
       "      <td>41.366138</td>\n",
       "      <td>-73.974598</td>\n",
       "      <td>40.751311</td>\n",
       "      <td>1.0</td>\n",
       "      <td>5.0</td>\n",
       "      <td>6.0</td>\n",
       "      <td>10.0</td>\n",
       "      <td>1.0</td>\n",
       "      <td>2009.0</td>\n",
       "      <td>5.0</td>\n",
       "      <td>60.885112</td>\n",
       "    </tr>\n",
       "    <tr>\n",
       "      <th>9665</th>\n",
       "      <td>7.70</td>\n",
       "      <td>-73.974361</td>\n",
       "      <td>40.755168</td>\n",
       "      <td>-73.137393</td>\n",
       "      <td>41.366138</td>\n",
       "      <td>1.0</td>\n",
       "      <td>223.0</td>\n",
       "      <td>12.0</td>\n",
       "      <td>19.0</td>\n",
       "      <td>8.0</td>\n",
       "      <td>2009.0</td>\n",
       "      <td>6.0</td>\n",
       "      <td>60.689692</td>\n",
       "    </tr>\n",
       "    <tr>\n",
       "      <th>4376</th>\n",
       "      <td>4.90</td>\n",
       "      <td>-73.137393</td>\n",
       "      <td>41.366138</td>\n",
       "      <td>-73.957685</td>\n",
       "      <td>40.765644</td>\n",
       "      <td>1.0</td>\n",
       "      <td>237.0</td>\n",
       "      <td>26.0</td>\n",
       "      <td>7.0</td>\n",
       "      <td>8.0</td>\n",
       "      <td>2009.0</td>\n",
       "      <td>6.0</td>\n",
       "      <td>59.559694</td>\n",
       "    </tr>\n",
       "    <tr>\n",
       "      <th>9577</th>\n",
       "      <td>6.90</td>\n",
       "      <td>-73.137393</td>\n",
       "      <td>41.366138</td>\n",
       "      <td>-73.952331</td>\n",
       "      <td>40.786380</td>\n",
       "      <td>1.0</td>\n",
       "      <td>224.0</td>\n",
       "      <td>13.0</td>\n",
       "      <td>23.0</td>\n",
       "      <td>8.0</td>\n",
       "      <td>2009.0</td>\n",
       "      <td>4.0</td>\n",
       "      <td>58.362662</td>\n",
       "    </tr>\n",
       "    <tr>\n",
       "      <th>7227</th>\n",
       "      <td>4.50</td>\n",
       "      <td>-73.900571</td>\n",
       "      <td>40.764047</td>\n",
       "      <td>-73.137393</td>\n",
       "      <td>41.366138</td>\n",
       "      <td>1.0</td>\n",
       "      <td>196.0</td>\n",
       "      <td>16.0</td>\n",
       "      <td>9.0</td>\n",
       "      <td>7.0</td>\n",
       "      <td>2009.0</td>\n",
       "      <td>4.0</td>\n",
       "      <td>57.542607</td>\n",
       "    </tr>\n",
       "    <tr>\n",
       "      <th>12067</th>\n",
       "      <td>13.12</td>\n",
       "      <td>-73.797225</td>\n",
       "      <td>40.639720</td>\n",
       "      <td>-73.840545</td>\n",
       "      <td>41.030892</td>\n",
       "      <td>1.0</td>\n",
       "      <td>484.0</td>\n",
       "      <td>1.0</td>\n",
       "      <td>15.0</td>\n",
       "      <td>5.0</td>\n",
       "      <td>2010.0</td>\n",
       "      <td>2.0</td>\n",
       "      <td>27.122079</td>\n",
       "    </tr>\n",
       "    <tr>\n",
       "      <th>6153</th>\n",
       "      <td>17.20</td>\n",
       "      <td>-73.422692</td>\n",
       "      <td>40.747012</td>\n",
       "      <td>-73.870317</td>\n",
       "      <td>40.773160</td>\n",
       "      <td>1.0</td>\n",
       "      <td>598.0</td>\n",
       "      <td>23.0</td>\n",
       "      <td>11.0</td>\n",
       "      <td>8.0</td>\n",
       "      <td>2010.0</td>\n",
       "      <td>1.0</td>\n",
       "      <td>23.495875</td>\n",
       "    </tr>\n",
       "    <tr>\n",
       "      <th>4014</th>\n",
       "      <td>15.41</td>\n",
       "      <td>-73.776700</td>\n",
       "      <td>40.645400</td>\n",
       "      <td>-73.905900</td>\n",
       "      <td>40.921800</td>\n",
       "      <td>1.0</td>\n",
       "      <td>951.0</td>\n",
       "      <td>13.0</td>\n",
       "      <td>17.0</td>\n",
       "      <td>8.0</td>\n",
       "      <td>2011.0</td>\n",
       "      <td>2.0</td>\n",
       "      <td>20.258276</td>\n",
       "    </tr>\n",
       "  </tbody>\n",
       "</table>\n",
       "</div>"
      ],
      "text/plain": [
       "       fare_amount  pickup_longitude  pickup_latitude  dropoff_longitude  \\\n",
       "5526         14.91        -73.137393        41.366138         -74.000940   \n",
       "1633          2.50        -73.137393        41.366138         -73.996510   \n",
       "2996          6.90        -73.137393        41.366138         -73.974598   \n",
       "9665          7.70        -73.974361        40.755168         -73.137393   \n",
       "4376          4.90        -73.137393        41.366138         -73.957685   \n",
       "9577          6.90        -73.137393        41.366138         -73.952331   \n",
       "7227          4.50        -73.900571        40.764047         -73.137393   \n",
       "12067        13.12        -73.797225        40.639720         -73.840545   \n",
       "6153         17.20        -73.422692        40.747012         -73.870317   \n",
       "4014         15.41        -73.776700        40.645400         -73.905900   \n",
       "\n",
       "       dropoff_latitude  passenger_count  pickup_date  pickup_day  \\\n",
       "5526          40.731723              1.0         55.0        25.0   \n",
       "1633          40.745320              2.0        121.0         2.0   \n",
       "2996          40.751311              1.0          5.0         6.0   \n",
       "9665          41.366138              1.0        223.0        12.0   \n",
       "4376          40.765644              1.0        237.0        26.0   \n",
       "9577          40.786380              1.0        224.0        13.0   \n",
       "7227          41.366138              1.0        196.0        16.0   \n",
       "12067         41.030892              1.0        484.0         1.0   \n",
       "6153          40.773160              1.0        598.0        23.0   \n",
       "4014          40.921800              1.0        951.0        13.0   \n",
       "\n",
       "       pickup_hour  pickup_month  pickup_year  pickup_day_of_week  \\\n",
       "5526           7.0           2.0       2009.0                 6.0   \n",
       "1633          19.0           5.0       2009.0                 2.0   \n",
       "2996          10.0           1.0       2009.0                 5.0   \n",
       "9665          19.0           8.0       2009.0                 6.0   \n",
       "4376           7.0           8.0       2009.0                 6.0   \n",
       "9577          23.0           8.0       2009.0                 4.0   \n",
       "7227           9.0           7.0       2009.0                 4.0   \n",
       "12067         15.0           5.0       2010.0                 2.0   \n",
       "6153          11.0           8.0       2010.0                 1.0   \n",
       "4014          17.0           8.0       2011.0                 2.0   \n",
       "\n",
       "       trip_distance  \n",
       "5526       62.817285  \n",
       "1633       61.995186  \n",
       "2996       60.885112  \n",
       "9665       60.689692  \n",
       "4376       59.559694  \n",
       "9577       58.362662  \n",
       "7227       57.542607  \n",
       "12067      27.122079  \n",
       "6153       23.495875  \n",
       "4014       20.258276  "
      ]
     },
     "execution_count": 202,
     "metadata": {},
     "output_type": "execute_result"
    }
   ],
   "source": [
    "train.sort_values([\"trip_distance\",\"passenger_count\",\"fare_amount\"], ascending = False).head(10)"
   ]
  },
  {
   "cell_type": "markdown",
   "metadata": {},
   "source": [
    "# Visualization"
   ]
  },
  {
   "cell_type": "markdown",
   "metadata": {},
   "source": [
    "Let us now look at datetime features and their realtionship with Fare Amount\n",
    "\n",
    "What is the time period in out sample"
   ]
  },
  {
   "cell_type": "code",
   "execution_count": 110,
   "metadata": {},
   "outputs": [
    {
     "data": {
      "text/plain": [
       "<matplotlib.axes._subplots.AxesSubplot at 0x1a43b49908>"
      ]
     },
     "execution_count": 110,
     "metadata": {},
     "output_type": "execute_result"
    },
    {
     "data": {
      "image/png": "[encoded data removed]",
      "text/plain": [
       "<Figure size 432x288 with 1 Axes>"
      ]
     },
     "metadata": {
      "needs_background": "light"
     },
     "output_type": "display_data"
    }
   ],
   "source": [
    "sns.countplot(train['pickup_year'])"
   ]
  },
  {
   "cell_type": "code",
   "execution_count": 111,
   "metadata": {},
   "outputs": [
    {
     "data": {
      "text/html": [
       "<div>\n",
       "<style scoped>\n",
       "    .dataframe tbody tr th:only-of-type {\n",
       "        vertical-align: middle;\n",
       "    }\n",
       "\n",
       "    .dataframe tbody tr th {\n",
       "        vertical-align: top;\n",
       "    }\n",
       "\n",
       "    .dataframe thead th {\n",
       "        text-align: right;\n",
       "    }\n",
       "</style>\n",
       "<table border=\"1\" class=\"dataframe\">\n",
       "  <thead>\n",
       "    <tr style=\"text-align: right;\">\n",
       "      <th></th>\n",
       "      <th>pickup_year</th>\n",
       "      <th>avg_fair_amount</th>\n",
       "    </tr>\n",
       "  </thead>\n",
       "  <tbody>\n",
       "    <tr>\n",
       "      <th>0</th>\n",
       "      <td>2009.0</td>\n",
       "      <td>8.565707</td>\n",
       "    </tr>\n",
       "    <tr>\n",
       "      <th>1</th>\n",
       "      <td>2010.0</td>\n",
       "      <td>8.529617</td>\n",
       "    </tr>\n",
       "    <tr>\n",
       "      <th>2</th>\n",
       "      <td>2011.0</td>\n",
       "      <td>8.734578</td>\n",
       "    </tr>\n",
       "    <tr>\n",
       "      <th>3</th>\n",
       "      <td>2012.0</td>\n",
       "      <td>9.160537</td>\n",
       "    </tr>\n",
       "    <tr>\n",
       "      <th>4</th>\n",
       "      <td>2013.0</td>\n",
       "      <td>9.902311</td>\n",
       "    </tr>\n",
       "  </tbody>\n",
       "</table>\n",
       "</div>"
      ],
      "text/plain": [
       "   pickup_year  avg_fair_amount\n",
       "0       2009.0         8.565707\n",
       "1       2010.0         8.529617\n",
       "2       2011.0         8.734578\n",
       "3       2012.0         9.160537\n",
       "4       2013.0         9.902311"
      ]
     },
     "execution_count": 111,
     "metadata": {},
     "output_type": "execute_result"
    }
   ],
   "source": [
    "trips_year_fare_amount=train.groupby([\"pickup_year\"])[\"fare_amount\"].mean().reset_index().rename(columns={\"fare_amount\":\"avg_fair_amount\"})\n",
    "trips_year_fare_amount.head()"
   ]
  },
  {
   "cell_type": "code",
   "execution_count": 210,
   "metadata": {},
   "outputs": [
    {
     "data": {
      "text/plain": [
       "<matplotlib.axes._subplots.AxesSubplot at 0x1a362be550>"
      ]
     },
     "execution_count": 210,
     "metadata": {},
     "output_type": "execute_result"
    },
    {
     "data": {
      "image/png": "[encoded data removed]",
      "text/plain": [
       "<Figure size 432x288 with 1 Axes>"
      ]
     },
     "metadata": {
      "needs_background": "light"
     },
     "output_type": "display_data"
    }
   ],
   "source": [
    "sns.barplot(x='pickup_year',y=\"avg_fair_amount\",data=trips_year_fare_amount)"
   ]
  },
  {
   "cell_type": "markdown",
   "metadata": {},
   "source": [
    "Avg Fare amount has beern increasing over the years."
   ]
  },
  {
   "cell_type": "code",
   "execution_count": 106,
   "metadata": {},
   "outputs": [
    {
     "data": {
      "text/plain": [
       "Index(['pickup_datetime', 'pickup_longitude', 'pickup_latitude',\n",
       "       'dropoff_longitude', 'dropoff_latitude', 'passenger_count'],\n",
       "      dtype='object')"
      ]
     },
     "execution_count": 106,
     "metadata": {},
     "output_type": "execute_result"
    }
   ],
   "source": [
    "test.columns"
   ]
  },
  {
   "cell_type": "code",
   "execution_count": 112,
   "metadata": {},
   "outputs": [],
   "source": [
    "def groupAndPlot(data,groupby_key,value,aggregate='mean'):\n",
    "    plt.figure(figsize=(16,10))\n",
    "    aggregate_data=data.groupby([groupby_key])[value].agg(aggregate).reset_index().rename(columns={value:aggregate+\"_\"+value})\n",
    "    plt.subplot(1,2,1)\n",
    "    count_data=data.groupby([groupby_key])['fare_amount'].count().reset_index().rename(columns={'fare_amount':\"Num_Trips\"})\n",
    "    sns.barplot(x=groupby_key,y='Num_Trips',data=count_data).set_title(\"Number of Trips vs \"+groupby_key)    \n",
    "    plt.subplot(1,2,2)\n",
    "    sns.barplot(x=groupby_key,y=aggregate+'_'+value,data=aggregate_data).set_title(aggregate+'_'+value+\" vs \"+groupby_key)\n",
    "    "
   ]
  },
  {
   "cell_type": "code",
   "execution_count": 410,
   "metadata": {},
   "outputs": [
    {
     "data": {
      "image/png": "[encoded data removed]",
      "text/plain": [
       "<Figure size 1152x720 with 2 Axes>"
      ]
     },
     "metadata": {
      "needs_background": "light"
     },
     "output_type": "display_data"
    }
   ],
   "source": [
    "groupAndPlot(train,'pickup_year','fare_amount')"
   ]
  },
  {
   "cell_type": "code",
   "execution_count": 212,
   "metadata": {},
   "outputs": [
    {
     "data": {
      "image/png": "[encoded data removed]",
      "text/plain": [
       "<Figure size 1152x720 with 2 Axes>"
      ]
     },
     "metadata": {
      "needs_background": "light"
     },
     "output_type": "display_data"
    }
   ],
   "source": [
    "groupAndPlot(train,'pickup_month','fare_amount')"
   ]
  },
  {
   "cell_type": "markdown",
   "metadata": {},
   "source": [
    "Fares across months are fairly constant, though number of trips are lower from june to decemeber"
   ]
  },
  {
   "cell_type": "code",
   "execution_count": 113,
   "metadata": {},
   "outputs": [
    {
     "data": {
      "image/png": "[encoded data removed]",
      "text/plain": [
       "<Figure size 1152x720 with 2 Axes>"
      ]
     },
     "metadata": {
      "needs_background": "light"
     },
     "output_type": "display_data"
    }
   ],
   "source": [
    "# decoding numbers into days \n",
    "def decodeDays(day_of_week):\n",
    "    day_dict={0:'Friday',1:'Monday',2:'Saturday',3:'Sunday',4:'Thursday',5:'Tuesday',6:'Wednesday'}\n",
    "    return day_dict[day_of_week]\n",
    "    \n",
    "train['pickup_day_of_week']=train['pickup_day_of_week'].apply(lambda x:decodeDays(x))\n",
    "groupAndPlot(train,'pickup_day_of_week','fare_amount')\n",
    "\n"
   ]
  },
  {
   "cell_type": "markdown",
   "metadata": {},
   "source": [
    "Saturday has low avg fare amount, compared to other days though there are a lot of trips of saturday. On sunday and monday though the number of trips are lower, avg fare amount is higher"
   ]
  },
  {
   "cell_type": "code",
   "execution_count": 114,
   "metadata": {},
   "outputs": [],
   "source": [
    "# Let us encode day of the week to numbers\n",
    "def encodeDays(day_of_week):\n",
    "    day_dict={'Sunday':0,'Monday':1,'Tuesday':2,'Wednesday':3,'Thursday':4,'Friday':5,'Saturday':6}\n",
    "    return day_dict[day_of_week]"
   ]
  },
  {
   "cell_type": "code",
   "execution_count": 115,
   "metadata": {},
   "outputs": [],
   "source": [
    "train['pickup_day_of_week']=train['pickup_day_of_week'].apply(lambda x:encodeDays(x))"
   ]
  },
  {
   "cell_type": "code",
   "execution_count": 116,
   "metadata": {},
   "outputs": [
    {
     "data": {
      "image/png": "[encoded data removed]",
      "text/plain": [
       "<Figure size 1152x720 with 2 Axes>"
      ]
     },
     "metadata": {
      "needs_background": "light"
     },
     "output_type": "display_data"
    }
   ],
   "source": [
    "groupAndPlot(train,'pickup_hour','fare_amount')"
   ]
  },
  {
   "cell_type": "markdown",
   "metadata": {},
   "source": [
    "The avg fare amount at 4am and 5 am are the higher while the number of trips at 4 am and 5 am are the least. The number of trips are highest in 18 and 19 hours"
   ]
  },
  {
   "cell_type": "markdown",
   "metadata": {},
   "source": [
    "### How does Number of passengers affect Fare time "
   ]
  },
  {
   "cell_type": "code",
   "execution_count": 216,
   "metadata": {},
   "outputs": [
    {
     "data": {
      "image/png": "[encoded data removed]",
      "text/plain": [
       "<Figure size 1152x720 with 2 Axes>"
      ]
     },
     "metadata": {
      "needs_background": "light"
     },
     "output_type": "display_data"
    }
   ],
   "source": [
    "groupAndPlot(train,'passenger_count','fare_amount')\n"
   ]
  },
  {
   "cell_type": "code",
   "execution_count": 221,
   "metadata": {},
   "outputs": [
    {
     "data": {
      "text/plain": [
       "(56, 13)"
      ]
     },
     "execution_count": 221,
     "metadata": {},
     "output_type": "execute_result"
    }
   ],
   "source": [
    "train.loc[train[\"passenger_count\"]==0].shape"
   ]
  },
  {
   "cell_type": "code",
   "execution_count": 222,
   "metadata": {},
   "outputs": [
    {
     "data": {
      "text/plain": [
       "(295, 13)"
      ]
     },
     "execution_count": 222,
     "metadata": {},
     "output_type": "execute_result"
    }
   ],
   "source": [
    "train.loc[train[\"passenger_count\"]==6].shape"
   ]
  },
  {
   "cell_type": "markdown",
   "metadata": {},
   "source": [
    "1. There are trips with 0 passengers as well. In these cases are drop and pickup location the same? If so it would mean that passenger didnt take the cab after the cab arrived and a cancellation fee was charged - there were 56 such records.\n",
    "\n",
    "2.  Fare amount is higher for 6 passengers .no of trips for 6 passengers is very low -there were 295 records"
   ]
  },
  {
   "cell_type": "code",
   "execution_count": 214,
   "metadata": {},
   "outputs": [],
   "source": [
    "train.to_csv(\"train_cleaned.csv\",index=False)"
   ]
  },
  {
   "cell_type": "code",
   "execution_count": 344,
   "metadata": {},
   "outputs": [],
   "source": [
    "#train=pd.read_csv(\"train_cleaned.csv\")"
   ]
  },
  {
   "cell_type": "code",
   "execution_count": 345,
   "metadata": {},
   "outputs": [
    {
     "data": {
      "text/html": [
       "<div>\n",
       "<style scoped>\n",
       "    .dataframe tbody tr th:only-of-type {\n",
       "        vertical-align: middle;\n",
       "    }\n",
       "\n",
       "    .dataframe tbody tr th {\n",
       "        vertical-align: top;\n",
       "    }\n",
       "\n",
       "    .dataframe thead th {\n",
       "        text-align: right;\n",
       "    }\n",
       "</style>\n",
       "<table border=\"1\" class=\"dataframe\">\n",
       "  <thead>\n",
       "    <tr style=\"text-align: right;\">\n",
       "      <th></th>\n",
       "      <th>fare_amount</th>\n",
       "      <th>pickup_longitude</th>\n",
       "      <th>pickup_latitude</th>\n",
       "      <th>dropoff_longitude</th>\n",
       "      <th>dropoff_latitude</th>\n",
       "      <th>passenger_count</th>\n",
       "      <th>pickup_date</th>\n",
       "      <th>pickup_day</th>\n",
       "      <th>pickup_hour</th>\n",
       "      <th>pickup_month</th>\n",
       "      <th>pickup_year</th>\n",
       "      <th>pickup_day_of_week</th>\n",
       "      <th>trip_distance</th>\n",
       "    </tr>\n",
       "  </thead>\n",
       "  <tbody>\n",
       "    <tr>\n",
       "      <th>0</th>\n",
       "      <td>4.5</td>\n",
       "      <td>-73.844311</td>\n",
       "      <td>40.721319</td>\n",
       "      <td>-73.841610</td>\n",
       "      <td>40.712278</td>\n",
       "      <td>1.0</td>\n",
       "      <td>165.0</td>\n",
       "      <td>15.0</td>\n",
       "      <td>17.0</td>\n",
       "      <td>6.0</td>\n",
       "      <td>2009.0</td>\n",
       "      <td>1</td>\n",
       "      <td>0.640487</td>\n",
       "    </tr>\n",
       "    <tr>\n",
       "      <th>1</th>\n",
       "      <td>16.9</td>\n",
       "      <td>-74.016048</td>\n",
       "      <td>40.711303</td>\n",
       "      <td>-73.979268</td>\n",
       "      <td>40.782004</td>\n",
       "      <td>1.0</td>\n",
       "      <td>369.0</td>\n",
       "      <td>5.0</td>\n",
       "      <td>16.0</td>\n",
       "      <td>1.0</td>\n",
       "      <td>2010.0</td>\n",
       "      <td>2</td>\n",
       "      <td>5.250670</td>\n",
       "    </tr>\n",
       "    <tr>\n",
       "      <th>2</th>\n",
       "      <td>5.7</td>\n",
       "      <td>-73.982738</td>\n",
       "      <td>40.761270</td>\n",
       "      <td>-73.991242</td>\n",
       "      <td>40.750562</td>\n",
       "      <td>2.0</td>\n",
       "      <td>956.0</td>\n",
       "      <td>18.0</td>\n",
       "      <td>0.0</td>\n",
       "      <td>8.0</td>\n",
       "      <td>2011.0</td>\n",
       "      <td>4</td>\n",
       "      <td>0.863411</td>\n",
       "    </tr>\n",
       "    <tr>\n",
       "      <th>3</th>\n",
       "      <td>7.7</td>\n",
       "      <td>-73.987130</td>\n",
       "      <td>40.733143</td>\n",
       "      <td>-73.991567</td>\n",
       "      <td>40.758092</td>\n",
       "      <td>1.0</td>\n",
       "      <td>1202.0</td>\n",
       "      <td>21.0</td>\n",
       "      <td>4.0</td>\n",
       "      <td>4.0</td>\n",
       "      <td>2012.0</td>\n",
       "      <td>6</td>\n",
       "      <td>1.739386</td>\n",
       "    </tr>\n",
       "    <tr>\n",
       "      <th>4</th>\n",
       "      <td>5.3</td>\n",
       "      <td>-73.968095</td>\n",
       "      <td>40.768008</td>\n",
       "      <td>-73.956655</td>\n",
       "      <td>40.783762</td>\n",
       "      <td>1.0</td>\n",
       "      <td>431.0</td>\n",
       "      <td>9.0</td>\n",
       "      <td>7.0</td>\n",
       "      <td>3.0</td>\n",
       "      <td>2010.0</td>\n",
       "      <td>2</td>\n",
       "      <td>1.242218</td>\n",
       "    </tr>\n",
       "  </tbody>\n",
       "</table>\n",
       "</div>"
      ],
      "text/plain": [
       "   fare_amount  pickup_longitude  pickup_latitude  dropoff_longitude  \\\n",
       "0          4.5        -73.844311        40.721319         -73.841610   \n",
       "1         16.9        -74.016048        40.711303         -73.979268   \n",
       "2          5.7        -73.982738        40.761270         -73.991242   \n",
       "3          7.7        -73.987130        40.733143         -73.991567   \n",
       "4          5.3        -73.968095        40.768008         -73.956655   \n",
       "\n",
       "   dropoff_latitude  passenger_count  pickup_date  pickup_day  pickup_hour  \\\n",
       "0         40.712278              1.0        165.0        15.0         17.0   \n",
       "1         40.782004              1.0        369.0         5.0         16.0   \n",
       "2         40.750562              2.0        956.0        18.0          0.0   \n",
       "3         40.758092              1.0       1202.0        21.0          4.0   \n",
       "4         40.783762              1.0        431.0         9.0          7.0   \n",
       "\n",
       "   pickup_month  pickup_year  pickup_day_of_week  trip_distance  \n",
       "0           6.0       2009.0                   1       0.640487  \n",
       "1           1.0       2010.0                   2       5.250670  \n",
       "2           8.0       2011.0                   4       0.863411  \n",
       "3           4.0       2012.0                   6       1.739386  \n",
       "4           3.0       2010.0                   2       1.242218  "
      ]
     },
     "execution_count": 345,
     "metadata": {},
     "output_type": "execute_result"
    }
   ],
   "source": [
    "train.head()"
   ]
  },
  {
   "cell_type": "markdown",
   "metadata": {},
   "source": [
    "# Correlation plot"
   ]
  },
  {
   "cell_type": "code",
   "execution_count": 237,
   "metadata": {},
   "outputs": [
    {
     "data": {
      "image/png": "[encoded data removed]",
      "text/plain": [
       "<Figure size 1080x720 with 2 Axes>"
      ]
     },
     "metadata": {
      "needs_background": "light"
     },
     "output_type": "display_data"
    }
   ],
   "source": [
    "#Correlation Plot\n",
    "churn_corr = train\n",
    "\n",
    "#Setting the plot height and width\n",
    "f, ax = plt.subplots(figsize=(15, 10))\n",
    "\n",
    "#Generating correlation matrix\n",
    "corr = churn_corr.corr()\n",
    "\n",
    "#Ploting using seaborn library\n",
    "#annot shows the correlation number inside each block\n",
    "plt.title('Correlation of features')\n",
    "correlation_plot = sns.heatmap(corr, mask=np.zeros_like(corr, dtype=np.bool), linewidths=0.4,vmax=1.0,linecolor='k', annot=True,cmap=sns.diverging_palette(220, 10, as_cmap=True),\n",
    "            square=True, ax=ax)\n",
    "#plt.savefig(\"correlation_plot.png\")\n",
    "\n"
   ]
  },
  {
   "cell_type": "code",
   "execution_count": 205,
   "metadata": {},
   "outputs": [],
   "source": [
    "test =  pd.read_csv('test.csv')"
   ]
  },
  {
   "cell_type": "code",
   "execution_count": 206,
   "metadata": {},
   "outputs": [
    {
     "data": {
      "text/html": [
       "<div>\n",
       "<style scoped>\n",
       "    .dataframe tbody tr th:only-of-type {\n",
       "        vertical-align: middle;\n",
       "    }\n",
       "\n",
       "    .dataframe tbody tr th {\n",
       "        vertical-align: top;\n",
       "    }\n",
       "\n",
       "    .dataframe thead th {\n",
       "        text-align: right;\n",
       "    }\n",
       "</style>\n",
       "<table border=\"1\" class=\"dataframe\">\n",
       "  <thead>\n",
       "    <tr style=\"text-align: right;\">\n",
       "      <th></th>\n",
       "      <th>pickup_datetime</th>\n",
       "      <th>pickup_longitude</th>\n",
       "      <th>pickup_latitude</th>\n",
       "      <th>dropoff_longitude</th>\n",
       "      <th>dropoff_latitude</th>\n",
       "      <th>passenger_count</th>\n",
       "    </tr>\n",
       "  </thead>\n",
       "  <tbody>\n",
       "    <tr>\n",
       "      <th>0</th>\n",
       "      <td>2015-01-27 13:08:24 UTC</td>\n",
       "      <td>-73.973320</td>\n",
       "      <td>40.763805</td>\n",
       "      <td>-73.981430</td>\n",
       "      <td>40.743835</td>\n",
       "      <td>1</td>\n",
       "    </tr>\n",
       "    <tr>\n",
       "      <th>1</th>\n",
       "      <td>2015-01-27 13:08:24 UTC</td>\n",
       "      <td>-73.986862</td>\n",
       "      <td>40.719383</td>\n",
       "      <td>-73.998886</td>\n",
       "      <td>40.739201</td>\n",
       "      <td>1</td>\n",
       "    </tr>\n",
       "    <tr>\n",
       "      <th>2</th>\n",
       "      <td>2011-10-08 11:53:44 UTC</td>\n",
       "      <td>-73.982524</td>\n",
       "      <td>40.751260</td>\n",
       "      <td>-73.979654</td>\n",
       "      <td>40.746139</td>\n",
       "      <td>1</td>\n",
       "    </tr>\n",
       "    <tr>\n",
       "      <th>3</th>\n",
       "      <td>2012-12-01 21:12:12 UTC</td>\n",
       "      <td>-73.981160</td>\n",
       "      <td>40.767807</td>\n",
       "      <td>-73.990448</td>\n",
       "      <td>40.751635</td>\n",
       "      <td>1</td>\n",
       "    </tr>\n",
       "    <tr>\n",
       "      <th>4</th>\n",
       "      <td>2012-12-01 21:12:12 UTC</td>\n",
       "      <td>-73.966046</td>\n",
       "      <td>40.789775</td>\n",
       "      <td>-73.988565</td>\n",
       "      <td>40.744427</td>\n",
       "      <td>1</td>\n",
       "    </tr>\n",
       "  </tbody>\n",
       "</table>\n",
       "</div>"
      ],
      "text/plain": [
       "           pickup_datetime  pickup_longitude  pickup_latitude  \\\n",
       "0  2015-01-27 13:08:24 UTC        -73.973320        40.763805   \n",
       "1  2015-01-27 13:08:24 UTC        -73.986862        40.719383   \n",
       "2  2011-10-08 11:53:44 UTC        -73.982524        40.751260   \n",
       "3  2012-12-01 21:12:12 UTC        -73.981160        40.767807   \n",
       "4  2012-12-01 21:12:12 UTC        -73.966046        40.789775   \n",
       "\n",
       "   dropoff_longitude  dropoff_latitude  passenger_count  \n",
       "0         -73.981430         40.743835                1  \n",
       "1         -73.998886         40.739201                1  \n",
       "2         -73.979654         40.746139                1  \n",
       "3         -73.990448         40.751635                1  \n",
       "4         -73.988565         40.744427                1  "
      ]
     },
     "execution_count": 206,
     "metadata": {},
     "output_type": "execute_result"
    }
   ],
   "source": [
    "test.head()"
   ]
  },
  {
   "cell_type": "markdown",
   "metadata": {},
   "source": [
    "# Cleaning test data"
   ]
  },
  {
   "cell_type": "code",
   "execution_count": 117,
   "metadata": {},
   "outputs": [
    {
     "name": "stdout",
     "output_type": "stream",
     "text": [
      "Shape of test data (9914, 13)\n"
     ]
    }
   ],
   "source": [
    "test =  pd.read_csv('test.csv')\n",
    "test['pickup_datetime']=pd.to_datetime(test['pickup_datetime'],format='%Y-%m-%d %H:%M:%S UTC')\n",
    "test['pickup_date']= test['pickup_datetime'].dt.date\n",
    "test['pickup_day']=test['pickup_datetime'].apply(lambda x:x.day)\n",
    "test['pickup_hour']=test['pickup_datetime'].apply(lambda x:x.hour)\n",
    "test['pickup_day_of_week']=test['pickup_datetime'].apply(lambda x:calendar.day_name[x.weekday()])\n",
    "test['pickup_month']=test['pickup_datetime'].apply(lambda x:x.month)\n",
    "test['pickup_year']=test['pickup_datetime'].apply(lambda x:x.year)\n",
    "test['trip_distance']=test.apply(lambda row:distance(row['pickup_latitude'],row['dropoff_latitude'],row['pickup_longitude'],row['dropoff_longitude']),axis=1)\n",
    "test['pickup_day_of_week']=test['pickup_day_of_week'].apply(lambda x:encodeDays(x))\n",
    "for i in range(0, test.shape[1]):\n",
    "    if(test.iloc[:,i].dtypes == 'object'):\n",
    "        test.iloc[:,i] = pd.Categorical(test.iloc[:,i])\n",
    "        test.iloc[:,i] = test.iloc[:,i].cat.codes \n",
    "        test.iloc[:,i] = test.iloc[:,i].astype('object')\n",
    "        \n",
    "print(\"Shape of test data\", test.shape)\n",
    "test.to_csv(\"test_cleaned.csv\",index=False)"
   ]
  },
  {
   "cell_type": "code",
   "execution_count": 118,
   "metadata": {},
   "outputs": [
    {
     "data": {
      "text/plain": [
       "pickup_datetime       0.0\n",
       "pickup_longitude      0.0\n",
       "pickup_latitude       0.0\n",
       "dropoff_longitude     0.0\n",
       "dropoff_latitude      0.0\n",
       "passenger_count       0.0\n",
       "pickup_date           0.0\n",
       "pickup_day            0.0\n",
       "pickup_hour           0.0\n",
       "pickup_day_of_week    0.0\n",
       "pickup_month          0.0\n",
       "pickup_year           0.0\n",
       "trip_distance         0.0\n",
       "dtype: float64"
      ]
     },
     "execution_count": 118,
     "metadata": {},
     "output_type": "execute_result"
    }
   ],
   "source": [
    "test[pd.isnull(train)].sum()"
   ]
  },
  {
   "cell_type": "code",
   "execution_count": 119,
   "metadata": {},
   "outputs": [
    {
     "data": {
      "text/html": [
       "<div>\n",
       "<style scoped>\n",
       "    .dataframe tbody tr th:only-of-type {\n",
       "        vertical-align: middle;\n",
       "    }\n",
       "\n",
       "    .dataframe tbody tr th {\n",
       "        vertical-align: top;\n",
       "    }\n",
       "\n",
       "    .dataframe thead th {\n",
       "        text-align: right;\n",
       "    }\n",
       "</style>\n",
       "<table border=\"1\" class=\"dataframe\">\n",
       "  <thead>\n",
       "    <tr style=\"text-align: right;\">\n",
       "      <th></th>\n",
       "      <th>pickup_datetime</th>\n",
       "      <th>pickup_longitude</th>\n",
       "      <th>pickup_latitude</th>\n",
       "      <th>dropoff_longitude</th>\n",
       "      <th>dropoff_latitude</th>\n",
       "      <th>passenger_count</th>\n",
       "      <th>pickup_date</th>\n",
       "      <th>pickup_day</th>\n",
       "      <th>pickup_hour</th>\n",
       "      <th>pickup_day_of_week</th>\n",
       "      <th>pickup_month</th>\n",
       "      <th>pickup_year</th>\n",
       "      <th>trip_distance</th>\n",
       "    </tr>\n",
       "  </thead>\n",
       "  <tbody>\n",
       "    <tr>\n",
       "      <th>0</th>\n",
       "      <td>2015-01-27 13:08:24</td>\n",
       "      <td>-73.973320</td>\n",
       "      <td>40.763805</td>\n",
       "      <td>-73.981430</td>\n",
       "      <td>40.743835</td>\n",
       "      <td>1</td>\n",
       "      <td>1133</td>\n",
       "      <td>27</td>\n",
       "      <td>13</td>\n",
       "      <td>2</td>\n",
       "      <td>1</td>\n",
       "      <td>2015</td>\n",
       "      <td>1.443607</td>\n",
       "    </tr>\n",
       "    <tr>\n",
       "      <th>1</th>\n",
       "      <td>2015-01-27 13:08:24</td>\n",
       "      <td>-73.986862</td>\n",
       "      <td>40.719383</td>\n",
       "      <td>-73.998886</td>\n",
       "      <td>40.739201</td>\n",
       "      <td>1</td>\n",
       "      <td>1133</td>\n",
       "      <td>27</td>\n",
       "      <td>13</td>\n",
       "      <td>2</td>\n",
       "      <td>1</td>\n",
       "      <td>2015</td>\n",
       "      <td>1.507044</td>\n",
       "    </tr>\n",
       "    <tr>\n",
       "      <th>2</th>\n",
       "      <td>2011-10-08 11:53:44</td>\n",
       "      <td>-73.982524</td>\n",
       "      <td>40.751260</td>\n",
       "      <td>-73.979654</td>\n",
       "      <td>40.746139</td>\n",
       "      <td>1</td>\n",
       "      <td>513</td>\n",
       "      <td>8</td>\n",
       "      <td>11</td>\n",
       "      <td>6</td>\n",
       "      <td>10</td>\n",
       "      <td>2011</td>\n",
       "      <td>0.384398</td>\n",
       "    </tr>\n",
       "    <tr>\n",
       "      <th>3</th>\n",
       "      <td>2012-12-01 21:12:12</td>\n",
       "      <td>-73.981160</td>\n",
       "      <td>40.767807</td>\n",
       "      <td>-73.990448</td>\n",
       "      <td>40.751635</td>\n",
       "      <td>1</td>\n",
       "      <td>715</td>\n",
       "      <td>1</td>\n",
       "      <td>21</td>\n",
       "      <td>6</td>\n",
       "      <td>12</td>\n",
       "      <td>2012</td>\n",
       "      <td>1.218529</td>\n",
       "    </tr>\n",
       "    <tr>\n",
       "      <th>4</th>\n",
       "      <td>2012-12-01 21:12:12</td>\n",
       "      <td>-73.966046</td>\n",
       "      <td>40.789775</td>\n",
       "      <td>-73.988565</td>\n",
       "      <td>40.744427</td>\n",
       "      <td>1</td>\n",
       "      <td>715</td>\n",
       "      <td>1</td>\n",
       "      <td>21</td>\n",
       "      <td>6</td>\n",
       "      <td>12</td>\n",
       "      <td>2012</td>\n",
       "      <td>3.347514</td>\n",
       "    </tr>\n",
       "  </tbody>\n",
       "</table>\n",
       "</div>"
      ],
      "text/plain": [
       "      pickup_datetime  pickup_longitude  pickup_latitude  dropoff_longitude  \\\n",
       "0 2015-01-27 13:08:24        -73.973320        40.763805         -73.981430   \n",
       "1 2015-01-27 13:08:24        -73.986862        40.719383         -73.998886   \n",
       "2 2011-10-08 11:53:44        -73.982524        40.751260         -73.979654   \n",
       "3 2012-12-01 21:12:12        -73.981160        40.767807         -73.990448   \n",
       "4 2012-12-01 21:12:12        -73.966046        40.789775         -73.988565   \n",
       "\n",
       "   dropoff_latitude  passenger_count pickup_date  pickup_day  pickup_hour  \\\n",
       "0         40.743835                1        1133          27           13   \n",
       "1         40.739201                1        1133          27           13   \n",
       "2         40.746139                1         513           8           11   \n",
       "3         40.751635                1         715           1           21   \n",
       "4         40.744427                1         715           1           21   \n",
       "\n",
       "   pickup_day_of_week  pickup_month  pickup_year  trip_distance  \n",
       "0                   2             1         2015       1.443607  \n",
       "1                   2             1         2015       1.507044  \n",
       "2                   6            10         2011       0.384398  \n",
       "3                   6            12         2012       1.218529  \n",
       "4                   6            12         2012       3.347514  "
      ]
     },
     "execution_count": 119,
     "metadata": {},
     "output_type": "execute_result"
    }
   ],
   "source": [
    "test.head()"
   ]
  },
  {
   "cell_type": "code",
   "execution_count": 128,
   "metadata": {},
   "outputs": [],
   "source": [
    "#train=pd.read_csv(\"train_cleaned.csv\")\n",
    "#test=pd.read_csv(\"test_cleaned.csv\")"
   ]
  },
  {
   "cell_type": "markdown",
   "metadata": {},
   "source": [
    "## Create a function to process data for Modelling\n",
    "\n",
    "This step includes:\n",
    "\n",
    "Dropping unwanted columns from the data\n",
    "One Hot Encoding of categorical variables\n",
    "Dividing training data into train and validation data sets\n",
    "features and target varible must be seperated\n",
    "split ratio must be passed as an argument"
   ]
  },
  {
   "cell_type": "code",
   "execution_count": 120,
   "metadata": {},
   "outputs": [],
   "source": [
    "def processDataForModelling(data,target,drop_cols,is_train=True,split=0.25):\n",
    "    data_1=data.drop(drop_cols,axis=1)\n",
    "    # One hot Encoding\n",
    "#     data_1=pd.get_dummies(data_1)\n",
    "    if is_train==True:\n",
    "        X=data_1.drop([target],axis=1)\n",
    "        y=data_1[target]\n",
    "        X_train, X_test, y_train, y_test = train_test_split(X,y, test_size=split,random_state=123)\n",
    "        \n",
    "        print(\"Shape of Training Features\",X_train.shape)\n",
    "        print(\"Shape of Validation Features \",X_test.shape)\n",
    "        \n",
    "        return X_train, X_test, y_train, y_test\n",
    "    else:\n",
    "        print (\"Shape of Test Data\",data_1.shape)\n",
    "        return data_1\n",
    "    "
   ]
  },
  {
   "cell_type": "code",
   "execution_count": 121,
   "metadata": {},
   "outputs": [
    {
     "name": "stdout",
     "output_type": "stream",
     "text": [
      "Shape of Training Features (12552, 12)\n",
      "Shape of Validation Features  (3139, 12)\n"
     ]
    }
   ],
   "source": [
    "X_train, X_test, y_train, y_test=processDataForModelling(train,'fare_amount',drop_cols=[],is_train=True,split=0.2)"
   ]
  },
  {
   "cell_type": "code",
   "execution_count": 122,
   "metadata": {},
   "outputs": [
    {
     "name": "stdout",
     "output_type": "stream",
     "text": [
      "Shape of Test Data (9914, 12)\n"
     ]
    }
   ],
   "source": [
    "final_test_data=processDataForModelling(test,'fare_amount',drop_cols=['pickup_datetime'],is_train=False)"
   ]
  },
  {
   "cell_type": "markdown",
   "metadata": {},
   "source": [
    "### Building a Baseline Model and Identifying a good ML algorithm for this problem\n",
    "\n"
   ]
  },
  {
   "cell_type": "markdown",
   "metadata": {},
   "source": [
    "The metric used in this problem is RMSE. We will try three models - Linear Regression, Random Forest and XGBoost and see which model performs better. We will use the best model among the three to further tune and apply feature Engineering\n",
    "\n",
    "For Baseline, we will predict the average fare amount and check the RMSE on validation data. Any model, should be able to beat this simple benchmark"
   ]
  },
  {
   "cell_type": "code",
   "execution_count": 123,
   "metadata": {},
   "outputs": [
    {
     "data": {
      "text/plain": [
       "9.23"
      ]
     },
     "execution_count": 123,
     "metadata": {},
     "output_type": "execute_result"
    }
   ],
   "source": [
    "avg_fare=round(np.mean(y_train),2)\n",
    "avg_fare"
   ]
  },
  {
   "cell_type": "code",
   "execution_count": 124,
   "metadata": {},
   "outputs": [
    {
     "name": "stdout",
     "output_type": "stream",
     "text": [
      "Basline RMSE of Validation data : 4.201849734517198\n"
     ]
    }
   ],
   "source": [
    "baseline_pred=np.repeat(avg_fare,y_test.shape[0])\n",
    "baseline_rmse=np.sqrt(mean_squared_error(baseline_pred, y_test))\n",
    "print(\"Basline RMSE of Validation data :\",baseline_rmse)"
   ]
  },
  {
   "cell_type": "code",
   "execution_count": null,
   "metadata": {},
   "outputs": [],
   "source": []
  },
  {
   "cell_type": "markdown",
   "metadata": {},
   "source": [
    "### Linear Regression Model"
   ]
  },
  {
   "cell_type": "code",
   "execution_count": 125,
   "metadata": {},
   "outputs": [
    {
     "name": "stdout",
     "output_type": "stream",
     "text": [
      "Test RMSE for Linear Regression is  3.4730594059797135\n",
      "Train RMSE for Linear Regression is  3.46797934693488\n",
      "Variance for Linear Regression is  0.00508005904483344\n",
      "RMSE for Linear Regression is  3.4730594059797135\n"
     ]
    }
   ],
   "source": [
    "# Build a Linear RegressionModel\n",
    "lm = LinearRegression()\n",
    "lm.fit(X_train,y_train)\n",
    "y_pred=np.round(lm.predict(X_test),2)\n",
    "lm_rmse=np.sqrt(mean_squared_error(y_pred, y_test))\n",
    "lm_train_rmse=np.sqrt(mean_squared_error(lm.predict(X_train), y_train))\n",
    "lm_variance=abs(lm_train_rmse - lm_rmse)\n",
    "print(\"Test RMSE for Linear Regression is \",lm_rmse)\n",
    "print(\"Train RMSE for Linear Regression is \",lm_train_rmse)\n",
    "print(\"Variance for Linear Regression is \",lm_variance)\n",
    "print(\"RMSE for Linear Regression is \",lm_rmse)"
   ]
  },
  {
   "cell_type": "code",
   "execution_count": null,
   "metadata": {},
   "outputs": [],
   "source": []
  },
  {
   "cell_type": "markdown",
   "metadata": {},
   "source": [
    "The linear regression model performed better than than the Baseline Mode. Let us create a Random Forest Model and see how it performs. Reason for failure of linear regression model, is that it tries to fit a linear line between the variables and the targer. But, as we saw in the Exploratory analysis phase this is not true."
   ]
  },
  {
   "cell_type": "markdown",
   "metadata": {},
   "source": [
    "### Random Forest Model"
   ]
  },
  {
   "cell_type": "code",
   "execution_count": 295,
   "metadata": {},
   "outputs": [
    {
     "data": {
      "text/plain": [
       "RandomForestRegressor(bootstrap=True, criterion='mse', max_depth=None,\n",
       "           max_features='auto', max_leaf_nodes=None,\n",
       "           min_impurity_decrease=0.0, min_impurity_split=None,\n",
       "           min_samples_leaf=1, min_samples_split=2,\n",
       "           min_weight_fraction_leaf=0.0, n_estimators=100, n_jobs=-1,\n",
       "           oob_score=False, random_state=883, verbose=0, warm_start=False)"
      ]
     },
     "execution_count": 295,
     "metadata": {},
     "output_type": "execute_result"
    }
   ],
   "source": [
    "rf = RandomForestRegressor(n_estimators = 100, random_state = 883,n_jobs=-1)\n",
    "rf.fit(X_train,y_train)"
   ]
  },
  {
   "cell_type": "code",
   "execution_count": 413,
   "metadata": {},
   "outputs": [
    {
     "name": "stdout",
     "output_type": "stream",
     "text": [
      "Test RMSE for Random Forest is  2.33463315975363\n",
      "Train RMSE for Random Forest is  0.8758006782424178\n",
      "Variance for Random Forest is  1.4588324815112124\n"
     ]
    }
   ],
   "source": [
    "rf_pred= rf.predict(X_test)\n",
    "rf_rmse=np.sqrt(mean_squared_error(rf_pred, y_test))\n",
    "\n",
    "rf_train_rmse=np.sqrt(mean_squared_error(rf.predict(X_train), y_train))\n",
    "rf_variance=abs(rf_train_rmse - rf_rmse)\n",
    "print(\"Test RMSE for Random Forest is \",rf_rmse)\n",
    "print(\"Train RMSE for Random Forest is \",rf_train_rmse)\n",
    "print(\"Variance for Random Forest is \",rf_variance)"
   ]
  },
  {
   "cell_type": "markdown",
   "metadata": {},
   "source": [
    "Random Forest has reduced the RMSE considerably as compared to Linear Regression. Random Forest works on the principle of Bagging The idea behind this is very intutive- when we want to make a decision about a field we do not know about we take advice from a people and then we decide based on the majority opinion. This is the idea behind Random Forest - multiple decision trees are created and output from each of the trees are averaged to predict the value. Random Forest are not susceptible to overfitting and since in Random Forest, each tree is trained independently of the other, it is more robust.\n",
    "\n",
    "The next type of algorithm we will see is also another Tree based Ensemble algorithm - but it follows concept of Boosting."
   ]
  },
  {
   "cell_type": "markdown",
   "metadata": {},
   "source": [
    "### LGB Model"
   ]
  },
  {
   "cell_type": "code",
   "execution_count": 227,
   "metadata": {},
   "outputs": [],
   "source": [
    "\n",
    "\n",
    "train_data=lgb.Dataset(X_train,label=y_train)"
   ]
  },
  {
   "cell_type": "code",
   "execution_count": 228,
   "metadata": {},
   "outputs": [],
   "source": [
    "param = {'num_leaves':31, 'num_trees':5000, 'objective':'regression'}\n",
    "param['metric'] = 'l2_root'"
   ]
  },
  {
   "cell_type": "code",
   "execution_count": 229,
   "metadata": {},
   "outputs": [
    {
     "name": "stdout",
     "output_type": "stream",
     "text": [
      "[20]\tcv_agg's rmse: 2.38211 + 0.0699781\n",
      "[40]\tcv_agg's rmse: 2.29509 + 0.0756061\n",
      "[60]\tcv_agg's rmse: 2.27515 + 0.0770271\n",
      "[80]\tcv_agg's rmse: 2.2692 + 0.0794739\n",
      "[100]\tcv_agg's rmse: 2.26429 + 0.0787186\n",
      "[120]\tcv_agg's rmse: 2.25991 + 0.0789751\n",
      "[140]\tcv_agg's rmse: 2.25647 + 0.0795594\n",
      "[160]\tcv_agg's rmse: 2.25695 + 0.0790748\n"
     ]
    }
   ],
   "source": [
    "num_round=5000\n",
    "cv_results = lgb.cv(param, train_data, num_boost_round=num_round, nfold=10,verbose_eval=20, early_stopping_rounds=20,stratified=False)"
   ]
  },
  {
   "cell_type": "code",
   "execution_count": 230,
   "metadata": {},
   "outputs": [
    {
     "name": "stdout",
     "output_type": "stream",
     "text": [
      "Best num_boost_round: 142\n"
     ]
    }
   ],
   "source": [
    "print('Best num_boost_round:', len(cv_results['rmse-mean']))\n",
    "#lgb_pred = lgb_bst.predict(X_test)"
   ]
  },
  {
   "cell_type": "code",
   "execution_count": 231,
   "metadata": {},
   "outputs": [],
   "source": [
    "lgb_bst=lgb.train(param,train_data,len(cv_results['rmse-mean']))"
   ]
  },
  {
   "cell_type": "code",
   "execution_count": 232,
   "metadata": {},
   "outputs": [
    {
     "name": "stdout",
     "output_type": "stream",
     "text": [
      "RMSE for Light GBM is  2.314828224835188\n"
     ]
    }
   ],
   "source": [
    "lgb_pred = lgb_bst.predict(X_test)\n",
    "lgb_rmse=np.sqrt(mean_squared_error(lgb_pred, y_test))\n",
    "print(\"RMSE for Light GBM is \",lgb_rmse)"
   ]
  },
  {
   "cell_type": "markdown",
   "metadata": {},
   "source": [
    "\n",
    "Light GBM is better than Random Forest . Let us also create a XGBOOST Model and see how it performs."
   ]
  },
  {
   "cell_type": "markdown",
   "metadata": {},
   "source": [
    "### XGBOOST Model"
   ]
  },
  {
   "cell_type": "code",
   "execution_count": 297,
   "metadata": {},
   "outputs": [],
   "source": [
    "\n",
    "dtrain = xgb.DMatrix(X_train,label=y_train)\n",
    "dtest = xgb.DMatrix(X_test,label=y_test)"
   ]
  },
  {
   "cell_type": "markdown",
   "metadata": {},
   "source": [
    "k-fold Cross Validation using XGBoost\n",
    "\n",
    "In order to build more robust models, it is common to do a k-fold cross validation where all the entries in the original training dataset are used for both training as well as validation. Also, each entry is used for validation just once. XGBoost supports k-fold cross validation via the cv() method. All you have to do is specify the nfolds parameter, which is the number of cross validation sets you want to build. Also, it supports many other parameters (check out this link) like:\n",
    "* num_boost_round: denotes the number of trees you build (analogous to n_estimators)\n",
    "* metrics: tells the evaluation metrics to be watched during CV\n",
    "* as_pandas: to return the results in a pandas DataFrame.\n",
    "* early_stopping_rounds: finishes training of the model early if the hold-out metric (\"rmse\" in our case) does not improve for a given number of rounds.\n",
    "* seed: for reproducibility of results."
   ]
  },
  {
   "cell_type": "code",
   "execution_count": 298,
   "metadata": {},
   "outputs": [],
   "source": [
    "xgb_param = {'objective':'reg:squarederror','eval_metric':'rmse'}\n",
    "xgb_cv=xgb.cv(xgb_param, dtrain, num_boost_round=5000, nfold=5,early_stopping_rounds=20)"
   ]
  },
  {
   "cell_type": "code",
   "execution_count": 299,
   "metadata": {},
   "outputs": [
    {
     "data": {
      "text/plain": [
       "42"
      ]
     },
     "execution_count": 299,
     "metadata": {},
     "output_type": "execute_result"
    }
   ],
   "source": [
    "nrounds=xgb_cv.shape[0]\n",
    "nrounds"
   ]
  },
  {
   "cell_type": "code",
   "execution_count": 300,
   "metadata": {},
   "outputs": [],
   "source": [
    "#  reg:linear is now deprecated in favor of reg:squarederror\n",
    "xbg_model=xgb.train(params={'objective':'reg:squarederror','eval_metric':'rmse'}\n",
    "                    ,dtrain=dtrain,num_boost_round=nrounds)\n",
    "\n"
   ]
  },
  {
   "cell_type": "code",
   "execution_count": 301,
   "metadata": {},
   "outputs": [
    {
     "name": "stdout",
     "output_type": "stream",
     "text": [
      "RMSE for XGBOOST is  2.292632401010061\n"
     ]
    }
   ],
   "source": [
    "xgb_pred=xbg_model.predict(dtest)\n",
    "xgb_rmse=np.sqrt(mean_squared_error(xgb_pred, y_test))\n",
    "print(\"RMSE for XGBOOST is \",xgb_rmse)\n",
    "\n"
   ]
  },
  {
   "cell_type": "markdown",
   "metadata": {},
   "source": [
    "### For each of the model we have built above, let us see what is the train RMSE and test RMSE - This will help us understand variance in the model and get the best model"
   ]
  },
  {
   "cell_type": "markdown",
   "metadata": {},
   "source": [
    "**Mean Absolute Error (MAE):** MAE measures the average magnitude of the errors in a set of predictions, without considering their direction. It’s the average over the test sample of the absolute differences between prediction and actual observation where all individual differences have equal weight.\n",
    "\n",
    " \n",
    "If the absolute value is not taken (the signs of the errors are not removed), the average error becomes the Mean Bias Error (MBE) and is usually intended to measure average model bias. MBE can convey useful information, but should be interpreted cautiously because positive and negative errors will cancel out.\n",
    "\n",
    "**Root mean squared error (RMSE):** RMSE is a quadratic scoring rule that also measures the average magnitude of the error. It’s the square root of the average of squared differences between prediction and actual observation.\n",
    "\n",
    " \n",
    "\n",
    "Taking the square root of the average squared errors has some interesting implications for RMSE. Since the errors are squared before they are averaged, the RMSE gives a relatively high weight to large errors. This means the RMSE should be more useful when large errors are particularly undesirable. \n",
    "\n",
    "For each of the model we have built above, let us see what is the train RMSE and test \n",
    "RMSE - This will help us understand variance in the model and get the best mode\n"
   ]
  },
  {
   "cell_type": "code",
   "execution_count": 238,
   "metadata": {},
   "outputs": [],
   "source": [
    "model_pred=pd.DataFrame()\n",
    "model_pred['model_name']=['Linear Regression','Random Forest','Light GBM','XGBOOST']\n",
    "model_pred['test_rmse']=[lm_rmse,rf_rmse,lgb_rmse,xgb_rmse]"
   ]
  },
  {
   "cell_type": "code",
   "execution_count": 239,
   "metadata": {},
   "outputs": [],
   "source": [
    "lm_train_rmse=np.sqrt(mean_squared_error(lm.predict(X_train), y_train))\n",
    "rf_train_rmse=np.sqrt(mean_squared_error(rf.predict(X_train),y_train))\n",
    "lgb_train_rmse=np.sqrt(mean_squared_error(lgb_bst.predict(X_train),y_train))\n",
    "xgb_train_rmse=np.sqrt(mean_squared_error(xbg_model.predict(dtrain),y_train))\n",
    "\n",
    "model_pred['train_rmse']=[lm_train_rmse,rf_train_rmse,lgb_train_rmse,xgb_train_rmse]"
   ]
  },
  {
   "cell_type": "code",
   "execution_count": 240,
   "metadata": {},
   "outputs": [
    {
     "data": {
      "text/html": [
       "<div>\n",
       "<style scoped>\n",
       "    .dataframe tbody tr th:only-of-type {\n",
       "        vertical-align: middle;\n",
       "    }\n",
       "\n",
       "    .dataframe tbody tr th {\n",
       "        vertical-align: top;\n",
       "    }\n",
       "\n",
       "    .dataframe thead th {\n",
       "        text-align: right;\n",
       "    }\n",
       "</style>\n",
       "<table border=\"1\" class=\"dataframe\">\n",
       "  <thead>\n",
       "    <tr style=\"text-align: right;\">\n",
       "      <th></th>\n",
       "      <th>model_name</th>\n",
       "      <th>test_rmse</th>\n",
       "      <th>train_rmse</th>\n",
       "      <th>variance</th>\n",
       "    </tr>\n",
       "  </thead>\n",
       "  <tbody>\n",
       "    <tr>\n",
       "      <th>0</th>\n",
       "      <td>Linear Regression</td>\n",
       "      <td>3.473059</td>\n",
       "      <td>3.467979</td>\n",
       "      <td>-0.005080</td>\n",
       "    </tr>\n",
       "    <tr>\n",
       "      <th>1</th>\n",
       "      <td>Random Forest</td>\n",
       "      <td>2.334633</td>\n",
       "      <td>0.875801</td>\n",
       "      <td>-1.458832</td>\n",
       "    </tr>\n",
       "    <tr>\n",
       "      <th>2</th>\n",
       "      <td>Light GBM</td>\n",
       "      <td>2.314828</td>\n",
       "      <td>0.060241</td>\n",
       "      <td>-2.254587</td>\n",
       "    </tr>\n",
       "    <tr>\n",
       "      <th>3</th>\n",
       "      <td>XGBOOST</td>\n",
       "      <td>2.292632</td>\n",
       "      <td>1.688107</td>\n",
       "      <td>-0.604526</td>\n",
       "    </tr>\n",
       "  </tbody>\n",
       "</table>\n",
       "</div>"
      ],
      "text/plain": [
       "          model_name  test_rmse  train_rmse  variance\n",
       "0  Linear Regression   3.473059    3.467979 -0.005080\n",
       "1      Random Forest   2.334633    0.875801 -1.458832\n",
       "2          Light GBM   2.314828    0.060241 -2.254587\n",
       "3            XGBOOST   2.292632    1.688107 -0.604526"
      ]
     },
     "execution_count": 240,
     "metadata": {},
     "output_type": "execute_result"
    }
   ],
   "source": [
    "model_pred['variance']=model_pred['train_rmse'] - model_pred['test_rmse']\n",
    "model_pred"
   ]
  },
  {
   "cell_type": "markdown",
   "metadata": {},
   "source": [
    "We can see that there is a very high difference in the train and test RMSE for Random Forest, though overall the test-rmse of Random Forest is the best. Very high variance is a sign of overfitting. XGBOOST has done slighlty better than Light GBM in terms of training and test rmse - and variance is higher in XGBOOST In further work, we will consider XGBOOST as the model and add features and tune this model"
   ]
  },
  {
   "cell_type": "markdown",
   "metadata": {},
   "source": [
    "### Tuning XGB \n",
    "\n",
    "* learning_rate: step size shrinkage used to prevent overfitting. Range is [0,1]\n",
    "* max_depth: determines how deeply each tree is allowed to grow during any boosting round.\n",
    "* subsample: percentage of samples used per tree. Low value can lead to underfitting.\n",
    "* colsample_bytree: percentage of features used per tree. High value can lead to overfitting.\n",
    "* n_estimators: number of trees you want to build.\n",
    "* objective: determines the loss function to be used like reg:linear for regression problems, reg:logistic for classification problems with only decision, binary:logistic for classification problems with probability."
   ]
  },
  {
   "cell_type": "code",
   "execution_count": 357,
   "metadata": {},
   "outputs": [],
   "source": [
    "xgb1 = XGBRegressor()\n",
    "parameters = { \n",
    "              'objective':['reg:squarederror'],\n",
    "              'learning_rate': [.03, 0.05, .07], #so called `eta` value\n",
    "              'max_depth': [6,7],\n",
    "              'min_child_weight': [4,5],    \n",
    "              'subsample': [0.7,0.8],\n",
    "              'colsample_bytree': [0.7],\n",
    "              'n_estimators': [500]}"
   ]
  },
  {
   "cell_type": "code",
   "execution_count": 358,
   "metadata": {},
   "outputs": [
    {
     "name": "stdout",
     "output_type": "stream",
     "text": [
      "Fitting 2 folds for each of 24 candidates, totalling 48 fits\n"
     ]
    },
    {
     "name": "stderr",
     "output_type": "stream",
     "text": [
      "[Parallel(n_jobs=5)]: Using backend LokyBackend with 5 concurrent workers.\n",
      "[Parallel(n_jobs=5)]: Done  48 out of  48 | elapsed:  1.1min finished\n"
     ]
    },
    {
     "name": "stdout",
     "output_type": "stream",
     "text": [
      "0.6998239884027316\n",
      "{'colsample_bytree': 0.7, 'learning_rate': 0.03, 'max_depth': 6, 'min_child_weight': 4, 'n_estimators': 500, 'objective': 'reg:squarederror', 'subsample': 0.8}\n"
     ]
    }
   ],
   "source": [
    "xgb_grid = GridSearchCV(xgb1,\n",
    "                        parameters,\n",
    "                        cv = 2,\n",
    "                        n_jobs = 5,\n",
    "                        verbose=True)\n",
    "\n",
    "xgb_grid.fit(X_train,y_train)\n",
    "\n",
    "print(xgb_grid.best_score_)\n",
    "print(xgb_grid.best_params_)\n",
    "\n"
   ]
  },
  {
   "cell_type": "code",
   "execution_count": 350,
   "metadata": {},
   "outputs": [],
   "source": [
    "xgb_param =  {'colsample_bytree': 0.7, 'learning_rate': 0.03, 'max_depth': 6, \n",
    "              'min_child_weight': 4, 'n_estimators': 500, \n",
    "              'nthread': 4, 'objective': 'reg:squarederror', 'subsample': 0.8}\n",
    "xgb_cv=xgb.cv(xgb_param, dtrain, num_boost_round=5000, nfold=5,early_stopping_rounds=100)\n"
   ]
  },
  {
   "cell_type": "code",
   "execution_count": 351,
   "metadata": {},
   "outputs": [],
   "source": [
    "nrounds=xgb_cv.shape[0]"
   ]
  },
  {
   "cell_type": "code",
   "execution_count": 355,
   "metadata": {},
   "outputs": [],
   "source": [
    "xgb_model_tun=xgb.train(params=xgb_param \n",
    "                    ,dtrain=dtrain,num_boost_round=nrounds)\n"
   ]
  },
  {
   "cell_type": "code",
   "execution_count": 360,
   "metadata": {},
   "outputs": [
    {
     "name": "stdout",
     "output_type": "stream",
     "text": [
      "RMSE for XGBOOST  After Tuning is  2.263933879882796\n"
     ]
    }
   ],
   "source": [
    "xgb_pred_tun=xgb_model_tun.predict(dtest)\n",
    "xgb_rmse_after_tuning=np.sqrt(mean_squared_error(xgb_pred_tun, y_test))\n",
    "print(\"RMSE for XGBOOST  After Tuning is \",xgb_rmse_after_tuning)"
   ]
  },
  {
   "cell_type": "code",
   "execution_count": 280,
   "metadata": {},
   "outputs": [],
   "source": [
    "# model = xgb.train(\n",
    "#     xgb_new_params,\n",
    "#     dtrain,\n",
    "#     num_boost_round=nrounds,\n",
    "#     evals=[(dtest, \"Test\")],\n",
    "#     early_stopping_rounds=10\n",
    "# )"
   ]
  },
  {
   "cell_type": "code",
   "execution_count": 361,
   "metadata": {},
   "outputs": [
    {
     "data": {
      "text/plain": [
       "Text(0.5, 0, 'relative importance')"
      ]
     },
     "execution_count": 361,
     "metadata": {},
     "output_type": "execute_result"
    },
    {
     "data": {
      "text/plain": [
       "<Figure size 432x288 with 0 Axes>"
      ]
     },
     "metadata": {},
     "output_type": "display_data"
    },
    {
     "data": {
      "image/png": "[encoded data removed]",
      "text/plain": [
       "<Figure size 432x720 with 1 Axes>"
      ]
     },
     "metadata": {
      "needs_background": "light"
     },
     "output_type": "display_data"
    }
   ],
   "source": [
    "importance = xgb_model_tun.get_fscore()\n",
    "importance = sorted(importance.items())\n",
    "\n",
    "df = pd.DataFrame(importance, columns=['feature', 'fscore'])\n",
    "df['fscore'] = df['fscore'] / df['fscore'].sum()\n",
    "df=df.sort_values(\"fscore\", ascending = True)\n",
    "plt.figure()\n",
    "# df.plot()\n",
    "df.plot(kind='barh', x='feature', y='fscore', legend=False, figsize=(6, 10))\n",
    "plt.title('XGBoost Feature Importance')\n",
    "plt.xlabel('relative importance')\n",
    "# plt.gcf().savefig('feature_importance_xgb.png')"
   ]
  },
  {
   "cell_type": "markdown",
   "metadata": {},
   "source": [
    "### Predicting Final Test Data "
   ]
  },
  {
   "cell_type": "code",
   "execution_count": 403,
   "metadata": {},
   "outputs": [],
   "source": [
    "\n",
    "col=['pickup_longitude', 'pickup_latitude', 'dropoff_longitude', 'dropoff_latitude', 'passenger_count', 'pickup_date', 'pickup_day', 'pickup_hour', 'pickup_month', 'pickup_year', 'pickup_day_of_week', 'trip_distance']\n",
    "final_test_data=final_test_data[col]\n",
    "test_data_Wfare=final_test_data.copy()\n"
   ]
  },
  {
   "cell_type": "code",
   "execution_count": 402,
   "metadata": {},
   "outputs": [],
   "source": [
    "dfinal_test_data=xgb.DMatrix(final_test_data)\n",
    "y_pred = xgb_model_tun.predict(dfinal_test_data) # Predict using our xbg_model\n"
   ]
  },
  {
   "cell_type": "code",
   "execution_count": 411,
   "metadata": {},
   "outputs": [
    {
     "data": {
      "text/plain": [
       "array([ 8.490119 ,  8.671526 ,  4.5747404, ..., 14.751655 , 15.889195 ,\n",
       "        5.665361 ], dtype=float32)"
      ]
     },
     "execution_count": 411,
     "metadata": {},
     "output_type": "execute_result"
    }
   ],
   "source": [
    "y_pred"
   ]
  },
  {
   "cell_type": "code",
   "execution_count": 404,
   "metadata": {},
   "outputs": [],
   "source": [
    "test_data_Wfare['fare_amount']=y_pred"
   ]
  },
  {
   "cell_type": "code",
   "execution_count": 405,
   "metadata": {},
   "outputs": [
    {
     "data": {
      "text/html": [
       "<div>\n",
       "<style scoped>\n",
       "    .dataframe tbody tr th:only-of-type {\n",
       "        vertical-align: middle;\n",
       "    }\n",
       "\n",
       "    .dataframe tbody tr th {\n",
       "        vertical-align: top;\n",
       "    }\n",
       "\n",
       "    .dataframe thead th {\n",
       "        text-align: right;\n",
       "    }\n",
       "</style>\n",
       "<table border=\"1\" class=\"dataframe\">\n",
       "  <thead>\n",
       "    <tr style=\"text-align: right;\">\n",
       "      <th></th>\n",
       "      <th>pickup_longitude</th>\n",
       "      <th>pickup_latitude</th>\n",
       "      <th>dropoff_longitude</th>\n",
       "      <th>dropoff_latitude</th>\n",
       "      <th>passenger_count</th>\n",
       "      <th>pickup_date</th>\n",
       "      <th>pickup_day</th>\n",
       "      <th>pickup_hour</th>\n",
       "      <th>pickup_month</th>\n",
       "      <th>pickup_year</th>\n",
       "      <th>pickup_day_of_week</th>\n",
       "      <th>trip_distance</th>\n",
       "      <th>fare_amount</th>\n",
       "    </tr>\n",
       "  </thead>\n",
       "  <tbody>\n",
       "    <tr>\n",
       "      <th>0</th>\n",
       "      <td>-73.973320</td>\n",
       "      <td>40.763805</td>\n",
       "      <td>-73.981430</td>\n",
       "      <td>40.743835</td>\n",
       "      <td>1</td>\n",
       "      <td>1133.0</td>\n",
       "      <td>27</td>\n",
       "      <td>13</td>\n",
       "      <td>1</td>\n",
       "      <td>2015</td>\n",
       "      <td>2</td>\n",
       "      <td>1.443607</td>\n",
       "      <td>8.490119</td>\n",
       "    </tr>\n",
       "    <tr>\n",
       "      <th>1</th>\n",
       "      <td>-73.986862</td>\n",
       "      <td>40.719383</td>\n",
       "      <td>-73.998886</td>\n",
       "      <td>40.739201</td>\n",
       "      <td>1</td>\n",
       "      <td>1133.0</td>\n",
       "      <td>27</td>\n",
       "      <td>13</td>\n",
       "      <td>1</td>\n",
       "      <td>2015</td>\n",
       "      <td>2</td>\n",
       "      <td>1.507044</td>\n",
       "      <td>8.671526</td>\n",
       "    </tr>\n",
       "    <tr>\n",
       "      <th>2</th>\n",
       "      <td>-73.982524</td>\n",
       "      <td>40.751260</td>\n",
       "      <td>-73.979654</td>\n",
       "      <td>40.746139</td>\n",
       "      <td>1</td>\n",
       "      <td>513.0</td>\n",
       "      <td>8</td>\n",
       "      <td>11</td>\n",
       "      <td>10</td>\n",
       "      <td>2011</td>\n",
       "      <td>6</td>\n",
       "      <td>0.384398</td>\n",
       "      <td>4.574740</td>\n",
       "    </tr>\n",
       "    <tr>\n",
       "      <th>3</th>\n",
       "      <td>-73.981160</td>\n",
       "      <td>40.767807</td>\n",
       "      <td>-73.990448</td>\n",
       "      <td>40.751635</td>\n",
       "      <td>1</td>\n",
       "      <td>715.0</td>\n",
       "      <td>1</td>\n",
       "      <td>21</td>\n",
       "      <td>12</td>\n",
       "      <td>2012</td>\n",
       "      <td>6</td>\n",
       "      <td>1.218529</td>\n",
       "      <td>7.862522</td>\n",
       "    </tr>\n",
       "    <tr>\n",
       "      <th>4</th>\n",
       "      <td>-73.966046</td>\n",
       "      <td>40.789775</td>\n",
       "      <td>-73.988565</td>\n",
       "      <td>40.744427</td>\n",
       "      <td>1</td>\n",
       "      <td>715.0</td>\n",
       "      <td>1</td>\n",
       "      <td>21</td>\n",
       "      <td>12</td>\n",
       "      <td>2012</td>\n",
       "      <td>6</td>\n",
       "      <td>3.347514</td>\n",
       "      <td>13.468697</td>\n",
       "    </tr>\n",
       "  </tbody>\n",
       "</table>\n",
       "</div>"
      ],
      "text/plain": [
       "   pickup_longitude  pickup_latitude  dropoff_longitude  dropoff_latitude  \\\n",
       "0        -73.973320        40.763805         -73.981430         40.743835   \n",
       "1        -73.986862        40.719383         -73.998886         40.739201   \n",
       "2        -73.982524        40.751260         -73.979654         40.746139   \n",
       "3        -73.981160        40.767807         -73.990448         40.751635   \n",
       "4        -73.966046        40.789775         -73.988565         40.744427   \n",
       "\n",
       "   passenger_count  pickup_date  pickup_day  pickup_hour  pickup_month  \\\n",
       "0                1       1133.0          27           13             1   \n",
       "1                1       1133.0          27           13             1   \n",
       "2                1        513.0           8           11            10   \n",
       "3                1        715.0           1           21            12   \n",
       "4                1        715.0           1           21            12   \n",
       "\n",
       "   pickup_year  pickup_day_of_week  trip_distance  fare_amount  \n",
       "0         2015                   2       1.443607     8.490119  \n",
       "1         2015                   2       1.507044     8.671526  \n",
       "2         2011                   6       0.384398     4.574740  \n",
       "3         2012                   6       1.218529     7.862522  \n",
       "4         2012                   6       3.347514    13.468697  "
      ]
     },
     "execution_count": 405,
     "metadata": {},
     "output_type": "execute_result"
    }
   ],
   "source": [
    "test_data_Wfare.head()"
   ]
  },
  {
   "cell_type": "code",
   "execution_count": null,
   "metadata": {},
   "outputs": [],
   "source": []
  }
 ],
 "metadata": {
  "kernelspec": {
   "display_name": "Python 3",
   "language": "python",
   "name": "python3"
  },
  "language_info": {
   "codemirror_mode": {
    "name": "ipython",
    "version": 3
   },
   "file_extension": ".py",
   "mimetype": "text/x-python",
   "name": "python",
   "nbconvert_exporter": "python",
   "pygments_lexer": "ipython3",
   "version": "3.6.8"
  }
 },
 "nbformat": 4,
 "nbformat_minor": 2
}
